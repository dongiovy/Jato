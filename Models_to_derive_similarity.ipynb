{
 "cells": [
  {
   "cell_type": "markdown",
   "metadata": {
    "collapsed": true
   },
   "source": [
    "# Board game analysis - Looking for similarities"
   ]
  },
  {
   "cell_type": "markdown",
   "metadata": {},
   "source": [
    "To perform the analysis is necessary to import some Py libraries and the dataset as a Pandas Dataframe.\n",
    "Pandas is a data manipulation library,\n",
    "Matplotlib is a plotting library,\n",
    "Seaborn is a visualization library based on matplotlib,\n",
    "Numpy add support for vectors ,multidimensional matrix and other usefull mathematical functions."
   ]
  },
  {
   "cell_type": "code",
   "execution_count": null,
   "metadata": {
    "collapsed": true
   },
   "outputs": [],
   "source": [
    "import pandas as pd\n",
    "import matplotlib.pyplot as plt\n",
    "import seaborn as sb\n",
    "import numpy as np\n",
    "%matplotlib inline\n",
    "import scipy.stats as st"
   ]
  },
  {
   "cell_type": "markdown",
   "metadata": {},
   "source": [
    "First of all I've imported the dataset as a pandas dataframe and I started exploring data:"
   ]
  },
  {
   "cell_type": "code",
   "execution_count": null,
   "metadata": {
    "collapsed": true
   },
   "outputs": [],
   "source": [
    "df = pd.read_csv('./bgg_db_2017_04.csv', encoding='latin1')"
   ]
  },
  {
   "cell_type": "markdown",
   "metadata": {},
   "source": [
    "I analyse the first columns and the information inside in order to find some interesting analysis."
   ]
  },
  {
   "cell_type": "code",
   "execution_count": null,
   "metadata": {},
   "outputs": [],
   "source": [
    "df.head()"
   ]
  },
  {
   "cell_type": "code",
   "execution_count": null,
   "metadata": {},
   "outputs": [],
   "source": [
    "total_row = len(df.index)\n",
    "print(total_row)"
   ]
  },
  {
   "cell_type": "markdown",
   "metadata": {},
   "source": [
    "# Let's explore the dataset"
   ]
  },
  {
   "cell_type": "markdown",
   "metadata": {},
   "source": [
    "How many players is most frequent. Here I'm adding two column at the end of dataset: average numbers of players and the players number range (min - max). With this we can wich category is most frequent and look for same easy correlation:"
   ]
  },
  {
   "cell_type": "code",
   "execution_count": null,
   "metadata": {
    "collapsed": true
   },
   "outputs": [],
   "source": [
    "df['avg_players'] = (df['min_players'] + df['max_players']) / 2\n",
    "df['player_number'] = df['min_players'].astype(str) + '-' + df['max_players'].astype(str)"
   ]
  },
  {
   "cell_type": "markdown",
   "metadata": {},
   "source": [
    "# Average player histogram:"
   ]
  },
  {
   "cell_type": "code",
   "execution_count": null,
   "metadata": {},
   "outputs": [],
   "source": [
    "avg_pl=df.groupby(['avg_players']).size().to_frame('count').reset_index()\n",
    "avg_pl = avg_pl.sort_values(['count'], ascending=[False])\n",
    "ax = avg_pl[['avg_players','count']].head(10).plot(kind='bar', x=['avg_players'], title =\"\", figsize=(15, 10), legend=True, fontsize=12)\n",
    "ax.set_xlabel(\"Average players\", fontsize=12)\n",
    "ax.set_ylabel(\"# of occurrences\", fontsize=12)\n",
    "plt.show()"
   ]
  },
  {
   "cell_type": "markdown",
   "metadata": {},
   "source": [
    "# Player range histogram:"
   ]
  },
  {
   "cell_type": "code",
   "execution_count": null,
   "metadata": {},
   "outputs": [],
   "source": [
    "net=df.groupby(['player_number']).size().to_frame('count').reset_index()\n",
    "net_sorted = net.sort_values(['count'], ascending=[False])\n",
    "ax = net_sorted[['player_number','count']].head(10).plot(kind='bar', x=['player_number'], title =\"Players\", figsize=(15, 10), legend=True, fontsize=12)\n",
    "ax.set_xlabel(\"Player number\", fontsize=12)\n",
    "ax.set_ylabel(\"# of occurrences\", fontsize=12)\n",
    "plt.show()"
   ]
  },
  {
   "cell_type": "markdown",
   "metadata": {},
   "source": [
    "2-4 is the most common player range followed by 2 players. Let's explore these building separated dataframe for the main five occurrencies:"
   ]
  },
  {
   "cell_type": "code",
   "execution_count": null,
   "metadata": {
    "collapsed": true
   },
   "outputs": [],
   "source": [
    "table_2_4 = df.loc[df['player_number'] == '2-4']\n",
    "table_2_2 = df.loc[df['player_number'] == '2-2']\n",
    "table_2_5 = df.loc[df['player_number'] == '2-5']\n",
    "table_2_6 = df.loc[df['player_number'] == '2-6']\n",
    "table_1_4 = df.loc[df['player_number'] == '1-4']"
   ]
  },
  {
   "cell_type": "markdown",
   "metadata": {},
   "source": [
    "And is possible to see wich games are inside the histogram bars:"
   ]
  },
  {
   "cell_type": "code",
   "execution_count": null,
   "metadata": {},
   "outputs": [],
   "source": [
    "table_2_4['names'].head()"
   ]
  },
  {
   "cell_type": "markdown",
   "metadata": {},
   "source": [
    "The first five column are the most common:"
   ]
  },
  {
   "cell_type": "code",
   "execution_count": null,
   "metadata": {},
   "outputs": [],
   "source": [
    "row_sum = len(table_2_4.index)+len(table_2_2.index)+len(table_2_5.index)+len(table_2_6.index)+len(table_1_4.index);\n",
    "percentage=row_sum/total_row*100\n",
    "print(percentage)"
   ]
  },
  {
   "cell_type": "markdown",
   "metadata": {},
   "source": [
    "They represent the 68% of the overall data."
   ]
  },
  {
   "cell_type": "markdown",
   "metadata": {},
   "source": [
    "# Most common age:"
   ]
  },
  {
   "cell_type": "code",
   "execution_count": null,
   "metadata": {},
   "outputs": [],
   "source": [
    "age_count=df.groupby(['age']).size().to_frame('count').reset_index()\n",
    "age_count = age_count.sort_values(['count'], ascending=[False])\n",
    "ax = age_count[['age','count']].head(10).plot(kind='bar', x=['age'], title =\"\", figsize=(15, 10), legend=True, fontsize=12)\n",
    "ax.set_xlabel(\"Player age\", fontsize=12)\n",
    "ax.set_ylabel(\"# of occurrences\", fontsize=12)\n",
    "plt.show()"
   ]
  },
  {
   "cell_type": "markdown",
   "metadata": {},
   "source": [
    "Again if we want which games are inside the bar:"
   ]
  },
  {
   "cell_type": "code",
   "execution_count": null,
   "metadata": {},
   "outputs": [],
   "source": [
    "table_age_12 = df.loc[df['age'] == 12]\n",
    "table_age_12['names'].head()"
   ]
  },
  {
   "cell_type": "markdown",
   "metadata": {},
   "source": [
    "# Correlation between age and the complexity of the game (weight):"
   ]
  },
  {
   "cell_type": "code",
   "execution_count": null,
   "metadata": {},
   "outputs": [],
   "source": [
    "ax = df.plot(kind='scatter', x='age',y='weight', title =\"\", figsize=(15, 10), legend=True, fontsize=12)"
   ]
  },
  {
   "cell_type": "markdown",
   "metadata": {},
   "source": [
    "The Pearson correlation is not so strong:"
   ]
  },
  {
   "cell_type": "code",
   "execution_count": null,
   "metadata": {},
   "outputs": [],
   "source": [
    "np.corrcoef(df['age'],df['weight'])[0,1]"
   ]
  },
  {
   "cell_type": "markdown",
   "metadata": {},
   "source": [
    "# Correlation between average rating and weight (how complex the game is):"
   ]
  },
  {
   "cell_type": "markdown",
   "metadata": {},
   "source": [
    "There is a correlation between complexity and rating? "
   ]
  },
  {
   "cell_type": "code",
   "execution_count": null,
   "metadata": {},
   "outputs": [],
   "source": [
    "ax = sb.jointplot(x='avg_rating', y='weight',data=df,kind='kde', size=10) "
   ]
  },
  {
   "cell_type": "markdown",
   "metadata": {
    "collapsed": true
   },
   "source": [
    "The pearson correlation coefficient is 0.54 so there is a linear correlation between weight and average rating. If we use Geek rating the correlation crash to 0.19. Why? The reason is the geek rating is the average rating adjusted for the number of votes. If there are only a few votes, it's pulled strongly towards the middle (5.5 is the number used, I think). If there are a lot of votes, the geek rating is closer to the average rating."
   ]
  },
  {
   "cell_type": "code",
   "execution_count": null,
   "metadata": {},
   "outputs": [],
   "source": [
    "ax = sb.jointplot(x='geek_rating', y='weight',data=df,kind='kde', size=10) "
   ]
  },
  {
   "cell_type": "markdown",
   "metadata": {},
   "source": [
    "Now I take only very high number of votes (more than 5000 votes):"
   ]
  },
  {
   "cell_type": "code",
   "execution_count": null,
   "metadata": {},
   "outputs": [],
   "source": [
    "df_stat_sig = df.loc[df['num_votes'] >= 5000]\n",
    "ax = sb.jointplot(x='avg_rating', y='weight',data=df_stat_sig,kind='kde', size=10) "
   ]
  },
  {
   "cell_type": "code",
   "execution_count": null,
   "metadata": {},
   "outputs": [],
   "source": [
    "len(df_stat_sig)"
   ]
  },
  {
   "cell_type": "markdown",
   "metadata": {},
   "source": [
    "There are only 375 boardgame but the correlation is more clear and high (0.67)"
   ]
  },
  {
   "cell_type": "markdown",
   "metadata": {},
   "source": [
    "# For a given game which other games are most similar:"
   ]
  },
  {
   "cell_type": "markdown",
   "metadata": {},
   "source": [
    "Now I'm building the array with the values of a generic game that I want to compare with the others."
   ]
  },
  {
   "cell_type": "code",
   "execution_count": null,
   "metadata": {},
   "outputs": [],
   "source": [
    "data = np.zeros((1,), dtype=[('names', 'U25'),('min_players', 'int'),('max_players', 'int'),('avg_time', 'float')\n",
    "                             ,('min_time', 'int'),('max_time', 'int'),('avg_rating', 'float'),\n",
    "                             ('geek_rating', 'float'),('age', 'int'),('weight', 'float'),('avg_players', 'float')])\n",
    "\n",
    "data[:] = [('My Game',1,10,50,10,250,7.8,3.4,18,4,1.5)]\n",
    "\n",
    "my_game = pd.DataFrame(data)\n"
   ]
  },
  {
   "cell_type": "code",
   "execution_count": null,
   "metadata": {},
   "outputs": [],
   "source": [
    "my_game.head()"
   ]
  },
  {
   "cell_type": "markdown",
   "metadata": {
    "collapsed": true
   },
   "source": [
    "Now I need to clean my dataframe with only the columns that describe numerically the characteristics of the games:"
   ]
  },
  {
   "cell_type": "code",
   "execution_count": null,
   "metadata": {},
   "outputs": [],
   "source": [
    "game_for_model = df.drop(['rank','bgg_url','game_id','num_votes','image_url','mechanic','owned','category','designer','player_number','year'], axis=1)"
   ]
  },
  {
   "cell_type": "code",
   "execution_count": null,
   "metadata": {},
   "outputs": [],
   "source": [
    "game_for_model.head(1)"
   ]
  },
  {
   "cell_type": "markdown",
   "metadata": {},
   "source": [
    "The idea at the base of this model is to compute the spearman rank correlation in order to find which games are most similar:"
   ]
  },
  {
   "cell_type": "code",
   "execution_count": null,
   "metadata": {},
   "outputs": [],
   "source": [
    "spearman = []\n",
    "for k in range(total_row):\n",
    "    spearman.append(st.spearmanr(my_game[my_game.columns[1:]].loc[0],game_for_model[game_for_model.columns[1:]].iloc[k])[0])"
   ]
  },
  {
   "cell_type": "markdown",
   "metadata": {},
   "source": [
    "Here I compute pearson and spearman correlation. Spearman rank correlation asses how well the relationship between two variables can be described using a monotonic function. Pearson correlation coefficient is a measure of the linear correlation between two variables."
   ]
  },
  {
   "cell_type": "code",
   "execution_count": null,
   "metadata": {
    "collapsed": true
   },
   "outputs": [],
   "source": [
    "pearson = []\n",
    "for k in range(total_row):\n",
    "    pearson.append(st.pearsonr(my_game[my_game.columns[1:]].loc[0],game_for_model[game_for_model.columns[1:]].iloc[k])[0])"
   ]
  },
  {
   "cell_type": "markdown",
   "metadata": {},
   "source": [
    "Here I'm creating a new dataframe called \"game_spear\". Is a copy of the \"game_for_model\" dataframe but I want to add at the end the two column spearman and pearson correlation. The reason is to maintain the whole original dataset as is in order to be free to change \"my_game\" and perform other analysis with another mock game."
   ]
  },
  {
   "cell_type": "code",
   "execution_count": null,
   "metadata": {
    "collapsed": true
   },
   "outputs": [],
   "source": [
    "game_spear = game_for_model.copy(deep=True)"
   ]
  },
  {
   "cell_type": "code",
   "execution_count": null,
   "metadata": {},
   "outputs": [],
   "source": [
    "game_spear['spearman'] = spearman\n",
    "game_spear['pearson'] = pearson"
   ]
  },
  {
   "cell_type": "markdown",
   "metadata": {},
   "source": [
    "Sorting values by Spearman Rank Correlation:"
   ]
  },
  {
   "cell_type": "code",
   "execution_count": null,
   "metadata": {},
   "outputs": [],
   "source": [
    "game_spear = game_spear.sort_values(['spearman'], ascending=[False])"
   ]
  },
  {
   "cell_type": "code",
   "execution_count": null,
   "metadata": {},
   "outputs": [],
   "source": [
    "game_spear.head(10)"
   ]
  },
  {
   "cell_type": "markdown",
   "metadata": {},
   "source": [
    "Here a list of the first 10 most similar games by the Spearman correlation. If we have a look at linear correlation instead:"
   ]
  },
  {
   "cell_type": "code",
   "execution_count": null,
   "metadata": {
    "collapsed": true
   },
   "outputs": [],
   "source": [
    "game_pear = game_spear.sort_values(['pearson'], ascending=[False])"
   ]
  },
  {
   "cell_type": "code",
   "execution_count": null,
   "metadata": {},
   "outputs": [],
   "source": [
    "game_pear.head(10)"
   ]
  },
  {
   "cell_type": "code",
   "execution_count": null,
   "metadata": {
    "collapsed": true
   },
   "outputs": [],
   "source": []
  }
 ],
 "metadata": {
  "kernelspec": {
   "display_name": "Python 3",
   "language": "python",
   "name": "python3"
  },
  "language_info": {
   "codemirror_mode": {
    "name": "ipython",
    "version": 3
   },
   "file_extension": ".py",
   "mimetype": "text/x-python",
   "name": "python",
   "nbconvert_exporter": "python",
   "pygments_lexer": "ipython3",
   "version": "3.6.1"
  }
 },
 "nbformat": 4,
 "nbformat_minor": 2
}
