{
 "cells": [
  {
   "cell_type": "markdown",
   "metadata": {
    "collapsed": true
   },
   "source": [
    "# Board game analysis - Looking for similarities"
   ]
  },
  {
   "cell_type": "markdown",
   "metadata": {},
   "source": [
    "To perform the analysis is necessary to import some Py libraries and the dataset as a Pandas Dataframe.\n",
    "Pandas is a data manipulation library,\n",
    "Matplotlib is a plotting library,\n",
    "Seaborn is a visualization library based on matplotlib,\n",
    "Numpy add support for vectors ,multidimensional matrix and other usefull mathematical functions."
   ]
  },
  {
   "cell_type": "code",
   "execution_count": 1,
   "metadata": {
    "collapsed": true
   },
   "outputs": [],
   "source": [
    "import pandas as pd\n",
    "import matplotlib.pyplot as plt\n",
    "import seaborn as sb\n",
    "import numpy as np\n",
    "%matplotlib inline\n",
    "import scipy.stats as st"
   ]
  },
  {
   "cell_type": "markdown",
   "metadata": {},
   "source": [
    "First of all I've imported the dataset as a pandas dataframe and I started exploring data:"
   ]
  },
  {
   "cell_type": "code",
   "execution_count": 2,
   "metadata": {
    "collapsed": true
   },
   "outputs": [],
   "source": [
    "df = pd.read_csv('./bgg_db_2017_04.csv', encoding='latin1')"
   ]
  },
  {
   "cell_type": "markdown",
   "metadata": {},
   "source": [
    "I analyse the first columns and the information inside in order to find some interesting analysis."
   ]
  },
  {
   "cell_type": "code",
   "execution_count": 3,
   "metadata": {},
   "outputs": [
    {
     "data": {
      "text/html": [
       "<div>\n",
       "<style>\n",
       "    .dataframe thead tr:only-child th {\n",
       "        text-align: right;\n",
       "    }\n",
       "\n",
       "    .dataframe thead th {\n",
       "        text-align: left;\n",
       "    }\n",
       "\n",
       "    .dataframe tbody tr th {\n",
       "        vertical-align: top;\n",
       "    }\n",
       "</style>\n",
       "<table border=\"1\" class=\"dataframe\">\n",
       "  <thead>\n",
       "    <tr style=\"text-align: right;\">\n",
       "      <th></th>\n",
       "      <th>rank</th>\n",
       "      <th>bgg_url</th>\n",
       "      <th>game_id</th>\n",
       "      <th>names</th>\n",
       "      <th>min_players</th>\n",
       "      <th>max_players</th>\n",
       "      <th>avg_time</th>\n",
       "      <th>min_time</th>\n",
       "      <th>max_time</th>\n",
       "      <th>year</th>\n",
       "      <th>avg_rating</th>\n",
       "      <th>geek_rating</th>\n",
       "      <th>num_votes</th>\n",
       "      <th>image_url</th>\n",
       "      <th>age</th>\n",
       "      <th>mechanic</th>\n",
       "      <th>owned</th>\n",
       "      <th>category</th>\n",
       "      <th>designer</th>\n",
       "      <th>weight</th>\n",
       "    </tr>\n",
       "  </thead>\n",
       "  <tbody>\n",
       "    <tr>\n",
       "      <th>0</th>\n",
       "      <td>1</td>\n",
       "      <td>https://boardgamegeek.com/boardgame/161936/pan...</td>\n",
       "      <td>161936</td>\n",
       "      <td>Pandemic Legacy: Season 1</td>\n",
       "      <td>2</td>\n",
       "      <td>4</td>\n",
       "      <td>60</td>\n",
       "      <td>60</td>\n",
       "      <td>60</td>\n",
       "      <td>2015</td>\n",
       "      <td>8.66905</td>\n",
       "      <td>8.48904</td>\n",
       "      <td>18009</td>\n",
       "      <td>https://cf.geekdo-images.com/images/pic2452831...</td>\n",
       "      <td>13</td>\n",
       "      <td>Action Point Allowance System, Co-operative Pl...</td>\n",
       "      <td>29472</td>\n",
       "      <td>Environmental, Medical</td>\n",
       "      <td>Rob Daviau, Matt Leacock</td>\n",
       "      <td>2.8076</td>\n",
       "    </tr>\n",
       "    <tr>\n",
       "      <th>1</th>\n",
       "      <td>2</td>\n",
       "      <td>https://boardgamegeek.com/boardgame/182028/thr...</td>\n",
       "      <td>182028</td>\n",
       "      <td>Through the Ages: A New Story of Civilization</td>\n",
       "      <td>2</td>\n",
       "      <td>4</td>\n",
       "      <td>240</td>\n",
       "      <td>180</td>\n",
       "      <td>240</td>\n",
       "      <td>2015</td>\n",
       "      <td>8.72977</td>\n",
       "      <td>8.30744</td>\n",
       "      <td>7309</td>\n",
       "      <td>https://cf.geekdo-images.com/images/pic2663291...</td>\n",
       "      <td>14</td>\n",
       "      <td>Action Point Allowance System, Auction/Bidding...</td>\n",
       "      <td>10007</td>\n",
       "      <td>Card Game, Civilization, Economic</td>\n",
       "      <td>Vlaada Chvátil</td>\n",
       "      <td>4.3093</td>\n",
       "    </tr>\n",
       "    <tr>\n",
       "      <th>2</th>\n",
       "      <td>3</td>\n",
       "      <td>https://boardgamegeek.com/boardgame/12333/twil...</td>\n",
       "      <td>12333</td>\n",
       "      <td>Twilight Struggle</td>\n",
       "      <td>2</td>\n",
       "      <td>2</td>\n",
       "      <td>180</td>\n",
       "      <td>180</td>\n",
       "      <td>180</td>\n",
       "      <td>2005</td>\n",
       "      <td>8.35745</td>\n",
       "      <td>8.22021</td>\n",
       "      <td>27403</td>\n",
       "      <td>https://cf.geekdo-images.com/images/pic361592.jpg</td>\n",
       "      <td>13</td>\n",
       "      <td>Area Control / Area Influence, Campaign / Batt...</td>\n",
       "      <td>37382</td>\n",
       "      <td>Modern Warfare, Political, Wargame</td>\n",
       "      <td>Ananda Gupta, Jason Matthews</td>\n",
       "      <td>3.5317</td>\n",
       "    </tr>\n",
       "    <tr>\n",
       "      <th>3</th>\n",
       "      <td>4</td>\n",
       "      <td>https://boardgamegeek.com/boardgame/120677/ter...</td>\n",
       "      <td>120677</td>\n",
       "      <td>Terra Mystica</td>\n",
       "      <td>2</td>\n",
       "      <td>5</td>\n",
       "      <td>150</td>\n",
       "      <td>60</td>\n",
       "      <td>150</td>\n",
       "      <td>2012</td>\n",
       "      <td>8.29627</td>\n",
       "      <td>8.15458</td>\n",
       "      <td>24267</td>\n",
       "      <td>https://cf.geekdo-images.com/images/pic1356616...</td>\n",
       "      <td>12</td>\n",
       "      <td>Route/Network Building, Variable Phase Order, ...</td>\n",
       "      <td>27948</td>\n",
       "      <td>Civilization, Economic, Fantasy, Territory Bui...</td>\n",
       "      <td>Jens Drögemüller, Helge Ostertag</td>\n",
       "      <td>3.9387</td>\n",
       "    </tr>\n",
       "    <tr>\n",
       "      <th>4</th>\n",
       "      <td>5</td>\n",
       "      <td>https://boardgamegeek.com/boardgame/174430/glo...</td>\n",
       "      <td>174430</td>\n",
       "      <td>Gloomhaven</td>\n",
       "      <td>1</td>\n",
       "      <td>4</td>\n",
       "      <td>150</td>\n",
       "      <td>90</td>\n",
       "      <td>150</td>\n",
       "      <td>2017</td>\n",
       "      <td>9.08970</td>\n",
       "      <td>8.15151</td>\n",
       "      <td>3978</td>\n",
       "      <td>https://cf.geekdo-images.com/images/pic2437871...</td>\n",
       "      <td>12</td>\n",
       "      <td>Action / Movement Programming, Campaign / Batt...</td>\n",
       "      <td>6057</td>\n",
       "      <td>Adventure, Economic, Exploration, Fantasy, Fig...</td>\n",
       "      <td>Isaac Childres</td>\n",
       "      <td>3.7028</td>\n",
       "    </tr>\n",
       "  </tbody>\n",
       "</table>\n",
       "</div>"
      ],
      "text/plain": [
       "   rank                                            bgg_url  game_id  \\\n",
       "0     1  https://boardgamegeek.com/boardgame/161936/pan...   161936   \n",
       "1     2  https://boardgamegeek.com/boardgame/182028/thr...   182028   \n",
       "2     3  https://boardgamegeek.com/boardgame/12333/twil...    12333   \n",
       "3     4  https://boardgamegeek.com/boardgame/120677/ter...   120677   \n",
       "4     5  https://boardgamegeek.com/boardgame/174430/glo...   174430   \n",
       "\n",
       "                                           names  min_players  max_players  \\\n",
       "0                      Pandemic Legacy: Season 1            2            4   \n",
       "1  Through the Ages: A New Story of Civilization            2            4   \n",
       "2                              Twilight Struggle            2            2   \n",
       "3                                  Terra Mystica            2            5   \n",
       "4                                     Gloomhaven            1            4   \n",
       "\n",
       "   avg_time  min_time  max_time  year  avg_rating  geek_rating  num_votes  \\\n",
       "0        60        60        60  2015     8.66905      8.48904      18009   \n",
       "1       240       180       240  2015     8.72977      8.30744       7309   \n",
       "2       180       180       180  2005     8.35745      8.22021      27403   \n",
       "3       150        60       150  2012     8.29627      8.15458      24267   \n",
       "4       150        90       150  2017     9.08970      8.15151       3978   \n",
       "\n",
       "                                           image_url  age  \\\n",
       "0  https://cf.geekdo-images.com/images/pic2452831...   13   \n",
       "1  https://cf.geekdo-images.com/images/pic2663291...   14   \n",
       "2  https://cf.geekdo-images.com/images/pic361592.jpg   13   \n",
       "3  https://cf.geekdo-images.com/images/pic1356616...   12   \n",
       "4  https://cf.geekdo-images.com/images/pic2437871...   12   \n",
       "\n",
       "                                            mechanic  owned  \\\n",
       "0  Action Point Allowance System, Co-operative Pl...  29472   \n",
       "1  Action Point Allowance System, Auction/Bidding...  10007   \n",
       "2  Area Control / Area Influence, Campaign / Batt...  37382   \n",
       "3  Route/Network Building, Variable Phase Order, ...  27948   \n",
       "4  Action / Movement Programming, Campaign / Batt...   6057   \n",
       "\n",
       "                                            category  \\\n",
       "0                             Environmental, Medical   \n",
       "1                  Card Game, Civilization, Economic   \n",
       "2                 Modern Warfare, Political, Wargame   \n",
       "3  Civilization, Economic, Fantasy, Territory Bui...   \n",
       "4  Adventure, Economic, Exploration, Fantasy, Fig...   \n",
       "\n",
       "                           designer  weight  \n",
       "0          Rob Daviau, Matt Leacock  2.8076  \n",
       "1                    Vlaada Chvátil  4.3093  \n",
       "2      Ananda Gupta, Jason Matthews  3.5317  \n",
       "3  Jens Drögemüller, Helge Ostertag  3.9387  \n",
       "4                    Isaac Childres  3.7028  "
      ]
     },
     "execution_count": 3,
     "metadata": {},
     "output_type": "execute_result"
    }
   ],
   "source": [
    "df.head()"
   ]
  },
  {
   "cell_type": "code",
   "execution_count": 4,
   "metadata": {},
   "outputs": [
    {
     "name": "stdout",
     "output_type": "stream",
     "text": [
      "4999\n"
     ]
    }
   ],
   "source": [
    "total_row = len(df.index)\n",
    "print(total_row)"
   ]
  },
  {
   "cell_type": "markdown",
   "metadata": {},
   "source": [
    "# Let's explore the dataset"
   ]
  },
  {
   "cell_type": "markdown",
   "metadata": {},
   "source": [
    "How many players is most frequent. Here I'm adding two column at the end of dataset: average numbers of players and the players number range (min - max). With this we can wich category is most frequent and look for same easy correlation:"
   ]
  },
  {
   "cell_type": "code",
   "execution_count": 5,
   "metadata": {
    "collapsed": true
   },
   "outputs": [],
   "source": [
    "df['avg_players'] = (df['min_players'] + df['max_players']) / 2\n",
    "df['player_number'] = df['min_players'].astype(str) + '-' + df['max_players'].astype(str)"
   ]
  },
  {
   "cell_type": "markdown",
   "metadata": {},
   "source": [
    "# Average player histogram:"
   ]
  },
  {
   "cell_type": "code",
   "execution_count": 6,
   "metadata": {},
   "outputs": [
    {
     "data": {
      "image/png": "[encoded data removed]",
      "text/plain": [
       "<matplotlib.figure.Figure at 0x2b27af10b00>"
      ]
     },
     "metadata": {},
     "output_type": "display_data"
    }
   ],
   "source": [
    "avg_pl=df.groupby(['avg_players']).size().to_frame('count').reset_index()\n",
    "avg_pl = avg_pl.sort_values(['count'], ascending=[False])\n",
    "ax = avg_pl[['avg_players','count']].head(10).plot(kind='bar', x=['avg_players'], title =\"\", figsize=(15, 10), legend=True, fontsize=12)\n",
    "ax.set_xlabel(\"Average players\", fontsize=12)\n",
    "ax.set_ylabel(\"# of occurrences\", fontsize=12)\n",
    "plt.show()"
   ]
  },
  {
   "cell_type": "markdown",
   "metadata": {},
   "source": [
    "# Player range histogram:"
   ]
  },
  {
   "cell_type": "code",
   "execution_count": 7,
   "metadata": {},
   "outputs": [
    {
     "data": {
      "image/png": "[encoded data removed]",
      "text/plain": [
       "<matplotlib.figure.Figure at 0x2b27a880320>"
      ]
     },
     "metadata": {},
     "output_type": "display_data"
    }
   ],
   "source": [
    "net=df.groupby(['player_number']).size().to_frame('count').reset_index()\n",
    "net_sorted = net.sort_values(['count'], ascending=[False])\n",
    "ax = net_sorted[['player_number','count']].head(10).plot(kind='bar', x=['player_number'], title =\"Players\", figsize=(15, 10), legend=True, fontsize=12)\n",
    "ax.set_xlabel(\"Player number\", fontsize=12)\n",
    "ax.set_ylabel(\"# of occurrences\", fontsize=12)\n",
    "plt.show()"
   ]
  },
  {
   "cell_type": "markdown",
   "metadata": {},
   "source": [
    "2-4 is the most common player range followed by 2 players. Let's explore these building separated dataframe for the main five occurrencies:"
   ]
  },
  {
   "cell_type": "code",
   "execution_count": 8,
   "metadata": {
    "collapsed": true
   },
   "outputs": [],
   "source": [
    "table_2_4 = df.loc[df['player_number'] == '2-4']\n",
    "table_2_2 = df.loc[df['player_number'] == '2-2']\n",
    "table_2_5 = df.loc[df['player_number'] == '2-5']\n",
    "table_2_6 = df.loc[df['player_number'] == '2-6']\n",
    "table_1_4 = df.loc[df['player_number'] == '1-4']"
   ]
  },
  {
   "cell_type": "markdown",
   "metadata": {},
   "source": [
    "And is possible to see wich games are inside the histogram bars:"
   ]
  },
  {
   "cell_type": "code",
   "execution_count": 9,
   "metadata": {},
   "outputs": [
    {
     "data": {
      "text/plain": [
       "0                         Pandemic Legacy: Season 1\n",
       "1     Through the Ages: A New Story of Civilization\n",
       "5                              Star Wars: Rebellion\n",
       "10                          The Castles of Burgundy\n",
       "12                 War of the Ring (Second Edition)\n",
       "Name: names, dtype: object"
      ]
     },
     "execution_count": 9,
     "metadata": {},
     "output_type": "execute_result"
    }
   ],
   "source": [
    "table_2_4['names'].head()"
   ]
  },
  {
   "cell_type": "markdown",
   "metadata": {},
   "source": [
    "The first five column are the most common:"
   ]
  },
  {
   "cell_type": "code",
   "execution_count": 10,
   "metadata": {},
   "outputs": [
    {
     "name": "stdout",
     "output_type": "stream",
     "text": [
      "67.83356671334266\n"
     ]
    }
   ],
   "source": [
    "row_sum = len(table_2_4.index)+len(table_2_2.index)+len(table_2_5.index)+len(table_2_6.index)+len(table_1_4.index);\n",
    "percentage=row_sum/total_row*100\n",
    "print(percentage)"
   ]
  },
  {
   "cell_type": "markdown",
   "metadata": {},
   "source": [
    "They represent the 68% of the overall data."
   ]
  },
  {
   "cell_type": "markdown",
   "metadata": {},
   "source": [
    "# Most common age:"
   ]
  },
  {
   "cell_type": "code",
   "execution_count": 11,
   "metadata": {},
   "outputs": [
    {
     "data": {
      "image/png": "[encoded data removed]",
      "text/plain": [
       "<matplotlib.figure.Figure at 0x2b27a887208>"
      ]
     },
     "metadata": {},
     "output_type": "display_data"
    }
   ],
   "source": [
    "age_count=df.groupby(['age']).size().to_frame('count').reset_index()\n",
    "age_count = age_count.sort_values(['count'], ascending=[False])\n",
    "ax = age_count[['age','count']].head(10).plot(kind='bar', x=['age'], title =\"\", figsize=(15, 10), legend=True, fontsize=12)\n",
    "ax.set_xlabel(\"Player age\", fontsize=12)\n",
    "ax.set_ylabel(\"# of occurrences\", fontsize=12)\n",
    "plt.show()"
   ]
  },
  {
   "cell_type": "markdown",
   "metadata": {},
   "source": [
    "Again if we want which games are inside the bar:"
   ]
  },
  {
   "cell_type": "code",
   "execution_count": 12,
   "metadata": {},
   "outputs": [
    {
     "data": {
      "text/plain": [
       "3                 Terra Mystica\n",
       "4                    Gloomhaven\n",
       "7             Terraforming Mars\n",
       "9     Caverna: The Cave Farmers\n",
       "10      The Castles of Burgundy\n",
       "Name: names, dtype: object"
      ]
     },
     "execution_count": 12,
     "metadata": {},
     "output_type": "execute_result"
    }
   ],
   "source": [
    "table_age_12 = df.loc[df['age'] == 12]\n",
    "table_age_12['names'].head()"
   ]
  },
  {
   "cell_type": "markdown",
   "metadata": {},
   "source": [
    "# Correlation between age and the complexity of the game (weight):"
   ]
  },
  {
   "cell_type": "code",
   "execution_count": 13,
   "metadata": {},
   "outputs": [
    {
     "data": {
      "image/png": "[encoded data removed]",
      "text/plain": [
       "<matplotlib.figure.Figure at 0x2b2768fc320>"
      ]
     },
     "metadata": {},
     "output_type": "display_data"
    }
   ],
   "source": [
    "ax = df.plot(kind='scatter', x='age',y='weight', title =\"\", figsize=(15, 10), legend=True, fontsize=12)"
   ]
  },
  {
   "cell_type": "markdown",
   "metadata": {},
   "source": [
    "The Pearson correlation is not so strong:"
   ]
  },
  {
   "cell_type": "code",
   "execution_count": 14,
   "metadata": {},
   "outputs": [
    {
     "data": {
      "text/plain": [
       "0.29589483531355137"
      ]
     },
     "execution_count": 14,
     "metadata": {},
     "output_type": "execute_result"
    }
   ],
   "source": [
    "np.corrcoef(df['age'],df['weight'])[0,1]"
   ]
  },
  {
   "cell_type": "markdown",
   "metadata": {},
   "source": [
    "# Correlation between average rating and weight (how complex the game is):"
   ]
  },
  {
   "cell_type": "markdown",
   "metadata": {},
   "source": [
    "There is a correlation between complexity and rating? "
   ]
  },
  {
   "cell_type": "code",
   "execution_count": 15,
   "metadata": {},
   "outputs": [
    {
     "data": {
      "image/png": "[encoded data removed]",
      "text/plain": [
       "<matplotlib.figure.Figure at 0x2b27b1da710>"
      ]
     },
     "metadata": {},
     "output_type": "display_data"
    }
   ],
   "source": [
    "ax = sb.jointplot(x='avg_rating', y='weight',data=df,kind='kde', size=10) "
   ]
  },
  {
   "cell_type": "markdown",
   "metadata": {
    "collapsed": true
   },
   "source": [
    "The pearson correlation coefficient is 0.54 so there is a linear correlation between weight and average rating. If we use Geek rating the correlation crash to 0.19. Why? The reason is the geek rating is the average rating adjusted for the number of votes. If there are only a few votes, it's pulled strongly towards the middle (5.5 is the number used, I think). If there are a lot of votes, the geek rating is closer to the average rating."
   ]
  },
  {
   "cell_type": "code",
   "execution_count": 16,
   "metadata": {},
   "outputs": [
    {
     "data": {
      "image/png": "[encoded data removed]",
      "text/plain": [
       "<matplotlib.figure.Figure at 0x2b27b20fd68>"
      ]
     },
     "metadata": {},
     "output_type": "display_data"
    }
   ],
   "source": [
    "ax = sb.jointplot(x='geek_rating', y='weight',data=df,kind='kde', size=10) "
   ]
  },
  {
   "cell_type": "markdown",
   "metadata": {},
   "source": [
    "Now I take only very high number of votes (more than 5000 votes):"
   ]
  },
  {
   "cell_type": "code",
   "execution_count": 17,
   "metadata": {},
   "outputs": [
    {
     "data": {
      "image/png": "[encoded data removed]",
      "text/plain": [
       "<matplotlib.figure.Figure at 0x2b27ad6e828>"
      ]
     },
     "metadata": {},
     "output_type": "display_data"
    }
   ],
   "source": [
    "df_stat_sig = df.loc[df['num_votes'] >= 5000]\n",
    "ax = sb.jointplot(x='avg_rating', y='weight',data=df_stat_sig,kind='kde', size=10) "
   ]
  },
  {
   "cell_type": "code",
   "execution_count": 18,
   "metadata": {},
   "outputs": [
    {
     "data": {
      "text/plain": [
       "375"
      ]
     },
     "execution_count": 18,
     "metadata": {},
     "output_type": "execute_result"
    }
   ],
   "source": [
    "len(df_stat_sig)"
   ]
  },
  {
   "cell_type": "markdown",
   "metadata": {},
   "source": [
    "There are only 375 boardgame but the correlation is more clear and high (0.67)"
   ]
  },
  {
   "cell_type": "markdown",
   "metadata": {},
   "source": [
    "# For a given game which other games are most similar:"
   ]
  },
  {
   "cell_type": "markdown",
   "metadata": {},
   "source": [
    "Now I'm building the array with the values of a generic game that I want to compare with the others."
   ]
  },
  {
   "cell_type": "code",
   "execution_count": 19,
   "metadata": {
    "collapsed": true
   },
   "outputs": [],
   "source": [
    "data = np.zeros((1,), dtype=[('names', 'U25'),('min_players', 'int'),('max_players', 'int'),('avg_time', 'float')\n",
    "                             ,('min_time', 'int'),('max_time', 'int'),('avg_rating', 'float'),\n",
    "                             ('geek_rating', 'float'),('age', 'int'),('weight', 'float'),('avg_players', 'float')])\n",
    "\n",
    "data[:] = [('My Game',1,6,180,30,180,7.8,5.7,10,3.6,3.5)]\n",
    "\n",
    "my_game = pd.DataFrame(data)\n"
   ]
  },
  {
   "cell_type": "code",
   "execution_count": 20,
   "metadata": {},
   "outputs": [
    {
     "data": {
      "text/html": [
       "<div>\n",
       "<style>\n",
       "    .dataframe thead tr:only-child th {\n",
       "        text-align: right;\n",
       "    }\n",
       "\n",
       "    .dataframe thead th {\n",
       "        text-align: left;\n",
       "    }\n",
       "\n",
       "    .dataframe tbody tr th {\n",
       "        vertical-align: top;\n",
       "    }\n",
       "</style>\n",
       "<table border=\"1\" class=\"dataframe\">\n",
       "  <thead>\n",
       "    <tr style=\"text-align: right;\">\n",
       "      <th></th>\n",
       "      <th>names</th>\n",
       "      <th>min_players</th>\n",
       "      <th>max_players</th>\n",
       "      <th>avg_time</th>\n",
       "      <th>min_time</th>\n",
       "      <th>max_time</th>\n",
       "      <th>avg_rating</th>\n",
       "      <th>geek_rating</th>\n",
       "      <th>age</th>\n",
       "      <th>weight</th>\n",
       "      <th>avg_players</th>\n",
       "    </tr>\n",
       "  </thead>\n",
       "  <tbody>\n",
       "    <tr>\n",
       "      <th>0</th>\n",
       "      <td>My Game</td>\n",
       "      <td>1</td>\n",
       "      <td>6</td>\n",
       "      <td>180.0</td>\n",
       "      <td>30</td>\n",
       "      <td>180</td>\n",
       "      <td>7.8</td>\n",
       "      <td>5.7</td>\n",
       "      <td>10</td>\n",
       "      <td>3.6</td>\n",
       "      <td>3.5</td>\n",
       "    </tr>\n",
       "  </tbody>\n",
       "</table>\n",
       "</div>"
      ],
      "text/plain": [
       "     names  min_players  max_players  avg_time  min_time  max_time  \\\n",
       "0  My Game            1            6     180.0        30       180   \n",
       "\n",
       "   avg_rating  geek_rating  age  weight  avg_players  \n",
       "0         7.8          5.7   10     3.6          3.5  "
      ]
     },
     "execution_count": 20,
     "metadata": {},
     "output_type": "execute_result"
    }
   ],
   "source": [
    "my_game.head()"
   ]
  },
  {
   "cell_type": "markdown",
   "metadata": {
    "collapsed": true
   },
   "source": [
    "Now I need to clean my dataframe with only the columns that describe numerically the characteristics of the games:"
   ]
  },
  {
   "cell_type": "code",
   "execution_count": 21,
   "metadata": {
    "collapsed": true
   },
   "outputs": [],
   "source": [
    "game_for_model = df.drop(['rank','bgg_url','game_id','num_votes','image_url','mechanic','owned','category','designer','player_number','year'], axis=1)"
   ]
  },
  {
   "cell_type": "code",
   "execution_count": 22,
   "metadata": {},
   "outputs": [
    {
     "data": {
      "text/html": [
       "<div>\n",
       "<style>\n",
       "    .dataframe thead tr:only-child th {\n",
       "        text-align: right;\n",
       "    }\n",
       "\n",
       "    .dataframe thead th {\n",
       "        text-align: left;\n",
       "    }\n",
       "\n",
       "    .dataframe tbody tr th {\n",
       "        vertical-align: top;\n",
       "    }\n",
       "</style>\n",
       "<table border=\"1\" class=\"dataframe\">\n",
       "  <thead>\n",
       "    <tr style=\"text-align: right;\">\n",
       "      <th></th>\n",
       "      <th>names</th>\n",
       "      <th>min_players</th>\n",
       "      <th>max_players</th>\n",
       "      <th>avg_time</th>\n",
       "      <th>min_time</th>\n",
       "      <th>max_time</th>\n",
       "      <th>avg_rating</th>\n",
       "      <th>geek_rating</th>\n",
       "      <th>age</th>\n",
       "      <th>weight</th>\n",
       "      <th>avg_players</th>\n",
       "    </tr>\n",
       "  </thead>\n",
       "  <tbody>\n",
       "    <tr>\n",
       "      <th>0</th>\n",
       "      <td>Pandemic Legacy: Season 1</td>\n",
       "      <td>2</td>\n",
       "      <td>4</td>\n",
       "      <td>60</td>\n",
       "      <td>60</td>\n",
       "      <td>60</td>\n",
       "      <td>8.66905</td>\n",
       "      <td>8.48904</td>\n",
       "      <td>13</td>\n",
       "      <td>2.8076</td>\n",
       "      <td>3.0</td>\n",
       "    </tr>\n",
       "  </tbody>\n",
       "</table>\n",
       "</div>"
      ],
      "text/plain": [
       "                       names  min_players  max_players  avg_time  min_time  \\\n",
       "0  Pandemic Legacy: Season 1            2            4        60        60   \n",
       "\n",
       "   max_time  avg_rating  geek_rating  age  weight  avg_players  \n",
       "0        60     8.66905      8.48904   13  2.8076          3.0  "
      ]
     },
     "execution_count": 22,
     "metadata": {},
     "output_type": "execute_result"
    }
   ],
   "source": [
    "game_for_model.head(1)"
   ]
  },
  {
   "cell_type": "markdown",
   "metadata": {},
   "source": [
    "The idea at the base of this model is to compute the spearman rank correlation in order to find which games are most similar:"
   ]
  },
  {
   "cell_type": "code",
   "execution_count": 23,
   "metadata": {
    "collapsed": true
   },
   "outputs": [],
   "source": [
    "spearman = []\n",
    "for k in range(total_row):\n",
    "    spearman.append(st.spearmanr(my_game[my_game.columns[1:]].loc[0],game_for_model[game_for_model.columns[1:]].iloc[k])[0])"
   ]
  },
  {
   "cell_type": "markdown",
   "metadata": {},
   "source": [
    "Here I compute pearson and spearman correlation. Spearman rank correlation asses how well the relationship between two variables can be described using a monotonic function. Pearson correlation coefficient is a measure of the linear correlation between two variables."
   ]
  },
  {
   "cell_type": "code",
   "execution_count": 24,
   "metadata": {
    "collapsed": true
   },
   "outputs": [],
   "source": [
    "pearson = []\n",
    "for k in range(total_row):\n",
    "    pearson.append(st.pearsonr(my_game[my_game.columns[1:]].loc[0],game_for_model[game_for_model.columns[1:]].iloc[k])[0])"
   ]
  },
  {
   "cell_type": "markdown",
   "metadata": {},
   "source": [
    "Here I'm creating a new dataframe called \"game_spear\". Is a copy of the \"game_for_model\" dataframe but I want to add at the end the two column spearman and pearson correlation. The reason is to maintain the whole original dataset as is in order to be free to change \"my_game\" and perform other analysis with another mock game."
   ]
  },
  {
   "cell_type": "code",
   "execution_count": 25,
   "metadata": {
    "collapsed": true
   },
   "outputs": [],
   "source": [
    "game_spear = game_for_model.copy(deep=True)"
   ]
  },
  {
   "cell_type": "code",
   "execution_count": 26,
   "metadata": {
    "collapsed": true
   },
   "outputs": [],
   "source": [
    "game_spear['spearman'] = spearman\n",
    "game_spear['pearson'] = pearson"
   ]
  },
  {
   "cell_type": "markdown",
   "metadata": {},
   "source": [
    "Sorting values by Spearman Rank Correlation:"
   ]
  },
  {
   "cell_type": "code",
   "execution_count": 27,
   "metadata": {
    "collapsed": true
   },
   "outputs": [],
   "source": [
    "game_spear_sort = game_spear.sort_values(['spearman'], ascending=[False])"
   ]
  },
  {
   "cell_type": "code",
   "execution_count": 28,
   "metadata": {},
   "outputs": [
    {
     "data": {
      "text/html": [
       "<div>\n",
       "<style>\n",
       "    .dataframe thead tr:only-child th {\n",
       "        text-align: right;\n",
       "    }\n",
       "\n",
       "    .dataframe thead th {\n",
       "        text-align: left;\n",
       "    }\n",
       "\n",
       "    .dataframe tbody tr th {\n",
       "        vertical-align: top;\n",
       "    }\n",
       "</style>\n",
       "<table border=\"1\" class=\"dataframe\">\n",
       "  <thead>\n",
       "    <tr style=\"text-align: right;\">\n",
       "      <th></th>\n",
       "      <th>names</th>\n",
       "      <th>min_players</th>\n",
       "      <th>max_players</th>\n",
       "      <th>avg_time</th>\n",
       "      <th>min_time</th>\n",
       "      <th>max_time</th>\n",
       "      <th>avg_rating</th>\n",
       "      <th>geek_rating</th>\n",
       "      <th>age</th>\n",
       "      <th>weight</th>\n",
       "      <th>avg_players</th>\n",
       "      <th>spearman</th>\n",
       "      <th>pearson</th>\n",
       "    </tr>\n",
       "  </thead>\n",
       "  <tbody>\n",
       "    <tr>\n",
       "      <th>3253</th>\n",
       "      <td>Perdition's Mouth: Abyssal Rift</td>\n",
       "      <td>1</td>\n",
       "      <td>6</td>\n",
       "      <td>180</td>\n",
       "      <td>30</td>\n",
       "      <td>180</td>\n",
       "      <td>7.84903</td>\n",
       "      <td>5.75840</td>\n",
       "      <td>10</td>\n",
       "      <td>3.6923</td>\n",
       "      <td>3.5</td>\n",
       "      <td>1.000000</td>\n",
       "      <td>1.000000</td>\n",
       "    </tr>\n",
       "    <tr>\n",
       "      <th>825</th>\n",
       "      <td>World in Flames</td>\n",
       "      <td>2</td>\n",
       "      <td>7</td>\n",
       "      <td>6000</td>\n",
       "      <td>120</td>\n",
       "      <td>6000</td>\n",
       "      <td>7.49972</td>\n",
       "      <td>6.51085</td>\n",
       "      <td>12</td>\n",
       "      <td>4.5984</td>\n",
       "      <td>4.5</td>\n",
       "      <td>1.000000</td>\n",
       "      <td>0.995271</td>\n",
       "    </tr>\n",
       "    <tr>\n",
       "      <th>4421</th>\n",
       "      <td>La Grande Guerre 14-18</td>\n",
       "      <td>2</td>\n",
       "      <td>6</td>\n",
       "      <td>3600</td>\n",
       "      <td>360</td>\n",
       "      <td>3600</td>\n",
       "      <td>7.80366</td>\n",
       "      <td>5.65713</td>\n",
       "      <td>14</td>\n",
       "      <td>4.9048</td>\n",
       "      <td>4.0</td>\n",
       "      <td>1.000000</td>\n",
       "      <td>0.998983</td>\n",
       "    </tr>\n",
       "    <tr>\n",
       "      <th>3233</th>\n",
       "      <td>Air Superiority</td>\n",
       "      <td>1</td>\n",
       "      <td>6</td>\n",
       "      <td>60</td>\n",
       "      <td>60</td>\n",
       "      <td>60</td>\n",
       "      <td>6.73137</td>\n",
       "      <td>5.75997</td>\n",
       "      <td>12</td>\n",
       "      <td>3.8529</td>\n",
       "      <td>3.5</td>\n",
       "      <td>0.990811</td>\n",
       "      <td>0.825951</td>\n",
       "    </tr>\n",
       "    <tr>\n",
       "      <th>2180</th>\n",
       "      <td>Advanced Third Reich</td>\n",
       "      <td>2</td>\n",
       "      <td>6</td>\n",
       "      <td>2480</td>\n",
       "      <td>2480</td>\n",
       "      <td>2480</td>\n",
       "      <td>6.73067</td>\n",
       "      <td>5.94674</td>\n",
       "      <td>12</td>\n",
       "      <td>4.5268</td>\n",
       "      <td>4.0</td>\n",
       "      <td>0.990811</td>\n",
       "      <td>0.827243</td>\n",
       "    </tr>\n",
       "    <tr>\n",
       "      <th>4265</th>\n",
       "      <td>18C2C: Manifest Destiny</td>\n",
       "      <td>2</td>\n",
       "      <td>6</td>\n",
       "      <td>600</td>\n",
       "      <td>600</td>\n",
       "      <td>600</td>\n",
       "      <td>7.66346</td>\n",
       "      <td>5.66588</td>\n",
       "      <td>14</td>\n",
       "      <td>4.6667</td>\n",
       "      <td>4.0</td>\n",
       "      <td>0.990811</td>\n",
       "      <td>0.827471</td>\n",
       "    </tr>\n",
       "    <tr>\n",
       "      <th>2491</th>\n",
       "      <td>Terrible Swift Sword</td>\n",
       "      <td>2</td>\n",
       "      <td>6</td>\n",
       "      <td>4320</td>\n",
       "      <td>4320</td>\n",
       "      <td>4320</td>\n",
       "      <td>7.27310</td>\n",
       "      <td>5.88251</td>\n",
       "      <td>12</td>\n",
       "      <td>4.1579</td>\n",
       "      <td>4.0</td>\n",
       "      <td>0.990811</td>\n",
       "      <td>0.827217</td>\n",
       "    </tr>\n",
       "    <tr>\n",
       "      <th>3337</th>\n",
       "      <td>The Three Days of Gettysburg (third edition)</td>\n",
       "      <td>1</td>\n",
       "      <td>6</td>\n",
       "      <td>75</td>\n",
       "      <td>75</td>\n",
       "      <td>75</td>\n",
       "      <td>7.43000</td>\n",
       "      <td>5.74868</td>\n",
       "      <td>12</td>\n",
       "      <td>4.2444</td>\n",
       "      <td>3.5</td>\n",
       "      <td>0.990811</td>\n",
       "      <td>0.827010</td>\n",
       "    </tr>\n",
       "    <tr>\n",
       "      <th>3993</th>\n",
       "      <td>Firepower</td>\n",
       "      <td>1</td>\n",
       "      <td>6</td>\n",
       "      <td>60</td>\n",
       "      <td>60</td>\n",
       "      <td>60</td>\n",
       "      <td>6.11407</td>\n",
       "      <td>5.68513</td>\n",
       "      <td>12</td>\n",
       "      <td>3.6667</td>\n",
       "      <td>3.5</td>\n",
       "      <td>0.990811</td>\n",
       "      <td>0.825931</td>\n",
       "    </tr>\n",
       "    <tr>\n",
       "      <th>2666</th>\n",
       "      <td>Imperium Romanum II</td>\n",
       "      <td>1</td>\n",
       "      <td>6</td>\n",
       "      <td>240</td>\n",
       "      <td>240</td>\n",
       "      <td>240</td>\n",
       "      <td>6.57530</td>\n",
       "      <td>5.84771</td>\n",
       "      <td>16</td>\n",
       "      <td>3.7647</td>\n",
       "      <td>3.5</td>\n",
       "      <td>0.990811</td>\n",
       "      <td>0.827741</td>\n",
       "    </tr>\n",
       "  </tbody>\n",
       "</table>\n",
       "</div>"
      ],
      "text/plain": [
       "                                             names  min_players  max_players  \\\n",
       "3253               Perdition's Mouth: Abyssal Rift            1            6   \n",
       "825                                World in Flames            2            7   \n",
       "4421                        La Grande Guerre 14-18            2            6   \n",
       "3233                               Air Superiority            1            6   \n",
       "2180                          Advanced Third Reich            2            6   \n",
       "4265                       18C2C: Manifest Destiny            2            6   \n",
       "2491                          Terrible Swift Sword            2            6   \n",
       "3337  The Three Days of Gettysburg (third edition)            1            6   \n",
       "3993                                     Firepower            1            6   \n",
       "2666                           Imperium Romanum II            1            6   \n",
       "\n",
       "      avg_time  min_time  max_time  avg_rating  geek_rating  age  weight  \\\n",
       "3253       180        30       180     7.84903      5.75840   10  3.6923   \n",
       "825       6000       120      6000     7.49972      6.51085   12  4.5984   \n",
       "4421      3600       360      3600     7.80366      5.65713   14  4.9048   \n",
       "3233        60        60        60     6.73137      5.75997   12  3.8529   \n",
       "2180      2480      2480      2480     6.73067      5.94674   12  4.5268   \n",
       "4265       600       600       600     7.66346      5.66588   14  4.6667   \n",
       "2491      4320      4320      4320     7.27310      5.88251   12  4.1579   \n",
       "3337        75        75        75     7.43000      5.74868   12  4.2444   \n",
       "3993        60        60        60     6.11407      5.68513   12  3.6667   \n",
       "2666       240       240       240     6.57530      5.84771   16  3.7647   \n",
       "\n",
       "      avg_players  spearman   pearson  \n",
       "3253          3.5  1.000000  1.000000  \n",
       "825           4.5  1.000000  0.995271  \n",
       "4421          4.0  1.000000  0.998983  \n",
       "3233          3.5  0.990811  0.825951  \n",
       "2180          4.0  0.990811  0.827243  \n",
       "4265          4.0  0.990811  0.827471  \n",
       "2491          4.0  0.990811  0.827217  \n",
       "3337          3.5  0.990811  0.827010  \n",
       "3993          3.5  0.990811  0.825931  \n",
       "2666          3.5  0.990811  0.827741  "
      ]
     },
     "execution_count": 28,
     "metadata": {},
     "output_type": "execute_result"
    }
   ],
   "source": [
    "game_spear_sort.head(10)"
   ]
  },
  {
   "cell_type": "markdown",
   "metadata": {},
   "source": [
    "Here a list of the first 10 most similar games by the Spearman correlation. If we have a look at linear correlation instead:"
   ]
  },
  {
   "cell_type": "code",
   "execution_count": 29,
   "metadata": {
    "collapsed": true
   },
   "outputs": [],
   "source": [
    "game_pear = game_spear.sort_values(['pearson'], ascending=[False])"
   ]
  },
  {
   "cell_type": "code",
   "execution_count": 30,
   "metadata": {},
   "outputs": [
    {
     "data": {
      "text/html": [
       "<div>\n",
       "<style>\n",
       "    .dataframe thead tr:only-child th {\n",
       "        text-align: right;\n",
       "    }\n",
       "\n",
       "    .dataframe thead th {\n",
       "        text-align: left;\n",
       "    }\n",
       "\n",
       "    .dataframe tbody tr th {\n",
       "        vertical-align: top;\n",
       "    }\n",
       "</style>\n",
       "<table border=\"1\" class=\"dataframe\">\n",
       "  <thead>\n",
       "    <tr style=\"text-align: right;\">\n",
       "      <th></th>\n",
       "      <th>names</th>\n",
       "      <th>min_players</th>\n",
       "      <th>max_players</th>\n",
       "      <th>avg_time</th>\n",
       "      <th>min_time</th>\n",
       "      <th>max_time</th>\n",
       "      <th>avg_rating</th>\n",
       "      <th>geek_rating</th>\n",
       "      <th>age</th>\n",
       "      <th>weight</th>\n",
       "      <th>avg_players</th>\n",
       "      <th>spearman</th>\n",
       "      <th>pearson</th>\n",
       "    </tr>\n",
       "  </thead>\n",
       "  <tbody>\n",
       "    <tr>\n",
       "      <th>3253</th>\n",
       "      <td>Perdition's Mouth: Abyssal Rift</td>\n",
       "      <td>1</td>\n",
       "      <td>6</td>\n",
       "      <td>180</td>\n",
       "      <td>30</td>\n",
       "      <td>180</td>\n",
       "      <td>7.84903</td>\n",
       "      <td>5.75840</td>\n",
       "      <td>10</td>\n",
       "      <td>3.6923</td>\n",
       "      <td>3.5</td>\n",
       "      <td>1.000000</td>\n",
       "      <td>1.000000</td>\n",
       "    </tr>\n",
       "    <tr>\n",
       "      <th>2095</th>\n",
       "      <td>Apex Theropod Deck-Building Game</td>\n",
       "      <td>1</td>\n",
       "      <td>6</td>\n",
       "      <td>290</td>\n",
       "      <td>45</td>\n",
       "      <td>290</td>\n",
       "      <td>7.37977</td>\n",
       "      <td>5.96809</td>\n",
       "      <td>14</td>\n",
       "      <td>2.9565</td>\n",
       "      <td>3.5</td>\n",
       "      <td>0.987805</td>\n",
       "      <td>0.999946</td>\n",
       "    </tr>\n",
       "    <tr>\n",
       "      <th>1903</th>\n",
       "      <td>V-Commandos</td>\n",
       "      <td>1</td>\n",
       "      <td>4</td>\n",
       "      <td>180</td>\n",
       "      <td>30</td>\n",
       "      <td>180</td>\n",
       "      <td>8.23187</td>\n",
       "      <td>6.02263</td>\n",
       "      <td>12</td>\n",
       "      <td>2.7143</td>\n",
       "      <td>2.5</td>\n",
       "      <td>0.987805</td>\n",
       "      <td>0.999897</td>\n",
       "    </tr>\n",
       "    <tr>\n",
       "      <th>4857</th>\n",
       "      <td>Silver Bayonet: The First Team in Vietnam, 1965</td>\n",
       "      <td>2</td>\n",
       "      <td>2</td>\n",
       "      <td>300</td>\n",
       "      <td>45</td>\n",
       "      <td>300</td>\n",
       "      <td>6.72197</td>\n",
       "      <td>5.63308</td>\n",
       "      <td>12</td>\n",
       "      <td>3.0435</td>\n",
       "      <td>2.0</td>\n",
       "      <td>0.925996</td>\n",
       "      <td>0.999836</td>\n",
       "    </tr>\n",
       "    <tr>\n",
       "      <th>865</th>\n",
       "      <td>Historia</td>\n",
       "      <td>1</td>\n",
       "      <td>6</td>\n",
       "      <td>180</td>\n",
       "      <td>30</td>\n",
       "      <td>180</td>\n",
       "      <td>7.04943</td>\n",
       "      <td>6.48562</td>\n",
       "      <td>14</td>\n",
       "      <td>3.1136</td>\n",
       "      <td>3.5</td>\n",
       "      <td>0.975610</td>\n",
       "      <td>0.999833</td>\n",
       "    </tr>\n",
       "    <tr>\n",
       "      <th>9</th>\n",
       "      <td>Caverna: The Cave Farmers</td>\n",
       "      <td>1</td>\n",
       "      <td>7</td>\n",
       "      <td>210</td>\n",
       "      <td>30</td>\n",
       "      <td>210</td>\n",
       "      <td>8.17949</td>\n",
       "      <td>8.00663</td>\n",
       "      <td>12</td>\n",
       "      <td>3.7883</td>\n",
       "      <td>4.0</td>\n",
       "      <td>0.975610</td>\n",
       "      <td>0.999804</td>\n",
       "    </tr>\n",
       "    <tr>\n",
       "      <th>2499</th>\n",
       "      <td>Comanchería: The Rise and Fall of the Comanche...</td>\n",
       "      <td>1</td>\n",
       "      <td>1</td>\n",
       "      <td>360</td>\n",
       "      <td>60</td>\n",
       "      <td>360</td>\n",
       "      <td>8.32032</td>\n",
       "      <td>5.88144</td>\n",
       "      <td>14</td>\n",
       "      <td>3.9600</td>\n",
       "      <td>1.0</td>\n",
       "      <td>0.925996</td>\n",
       "      <td>0.999790</td>\n",
       "    </tr>\n",
       "    <tr>\n",
       "      <th>103</th>\n",
       "      <td>Go</td>\n",
       "      <td>2</td>\n",
       "      <td>2</td>\n",
       "      <td>180</td>\n",
       "      <td>30</td>\n",
       "      <td>180</td>\n",
       "      <td>7.67240</td>\n",
       "      <td>7.41118</td>\n",
       "      <td>8</td>\n",
       "      <td>3.9730</td>\n",
       "      <td>2.0</td>\n",
       "      <td>0.925996</td>\n",
       "      <td>0.999753</td>\n",
       "    </tr>\n",
       "    <tr>\n",
       "      <th>3671</th>\n",
       "      <td>Pericles: The Peloponnesian Wars</td>\n",
       "      <td>1</td>\n",
       "      <td>4</td>\n",
       "      <td>360</td>\n",
       "      <td>45</td>\n",
       "      <td>360</td>\n",
       "      <td>8.52372</td>\n",
       "      <td>5.71214</td>\n",
       "      <td>12</td>\n",
       "      <td>3.8571</td>\n",
       "      <td>2.5</td>\n",
       "      <td>0.987805</td>\n",
       "      <td>0.999644</td>\n",
       "    </tr>\n",
       "    <tr>\n",
       "      <th>3474</th>\n",
       "      <td>D-Day at Peleliu</td>\n",
       "      <td>1</td>\n",
       "      <td>2</td>\n",
       "      <td>480</td>\n",
       "      <td>60</td>\n",
       "      <td>480</td>\n",
       "      <td>8.34227</td>\n",
       "      <td>5.73319</td>\n",
       "      <td>12</td>\n",
       "      <td>3.8571</td>\n",
       "      <td>1.5</td>\n",
       "      <td>0.963415</td>\n",
       "      <td>0.999618</td>\n",
       "    </tr>\n",
       "  </tbody>\n",
       "</table>\n",
       "</div>"
      ],
      "text/plain": [
       "                                                  names  min_players  \\\n",
       "3253                    Perdition's Mouth: Abyssal Rift            1   \n",
       "2095                   Apex Theropod Deck-Building Game            1   \n",
       "1903                                        V-Commandos            1   \n",
       "4857    Silver Bayonet: The First Team in Vietnam, 1965            2   \n",
       "865                                            Historia            1   \n",
       "9                             Caverna: The Cave Farmers            1   \n",
       "2499  Comanchería: The Rise and Fall of the Comanche...            1   \n",
       "103                                                  Go            2   \n",
       "3671                   Pericles: The Peloponnesian Wars            1   \n",
       "3474                                   D-Day at Peleliu            1   \n",
       "\n",
       "      max_players  avg_time  min_time  max_time  avg_rating  geek_rating  age  \\\n",
       "3253            6       180        30       180     7.84903      5.75840   10   \n",
       "2095            6       290        45       290     7.37977      5.96809   14   \n",
       "1903            4       180        30       180     8.23187      6.02263   12   \n",
       "4857            2       300        45       300     6.72197      5.63308   12   \n",
       "865             6       180        30       180     7.04943      6.48562   14   \n",
       "9               7       210        30       210     8.17949      8.00663   12   \n",
       "2499            1       360        60       360     8.32032      5.88144   14   \n",
       "103             2       180        30       180     7.67240      7.41118    8   \n",
       "3671            4       360        45       360     8.52372      5.71214   12   \n",
       "3474            2       480        60       480     8.34227      5.73319   12   \n",
       "\n",
       "      weight  avg_players  spearman   pearson  \n",
       "3253  3.6923          3.5  1.000000  1.000000  \n",
       "2095  2.9565          3.5  0.987805  0.999946  \n",
       "1903  2.7143          2.5  0.987805  0.999897  \n",
       "4857  3.0435          2.0  0.925996  0.999836  \n",
       "865   3.1136          3.5  0.975610  0.999833  \n",
       "9     3.7883          4.0  0.975610  0.999804  \n",
       "2499  3.9600          1.0  0.925996  0.999790  \n",
       "103   3.9730          2.0  0.925996  0.999753  \n",
       "3671  3.8571          2.5  0.987805  0.999644  \n",
       "3474  3.8571          1.5  0.963415  0.999618  "
      ]
     },
     "execution_count": 30,
     "metadata": {},
     "output_type": "execute_result"
    }
   ],
   "source": [
    "game_pear.head(10)"
   ]
  },
  {
   "cell_type": "markdown",
   "metadata": {},
   "source": [
    "# Cosine similarity"
   ]
  },
  {
   "cell_type": "markdown",
   "metadata": {},
   "source": [
    "Cosine similarity is a measure of similarity between two non-zero vectors of an inner product space that measures the cosine of the angle between them. Cosine similarity then gives a useful measure (in text mining) of how similar two documents are likely to be in terms of their subject matter. I will define the cosine similarity in the function below:"
   ]
  },
  {
   "cell_type": "code",
   "execution_count": 31,
   "metadata": {
    "collapsed": true
   },
   "outputs": [],
   "source": [
    "def square_rooted(x):\n",
    " \n",
    "    return round(np.sqrt(sum([a*a for a in x])),3)\n",
    " \n",
    "def cosine_similarity(x,y):\n",
    " \n",
    "    numerator = sum(a*b for a,b in zip(x,y))\n",
    "    denominator = square_rooted(x)*square_rooted(y)\n",
    "    return round(numerator/float(denominator),3)"
   ]
  },
  {
   "cell_type": "markdown",
   "metadata": {},
   "source": [
    "And now I could apply it to the dataset:"
   ]
  },
  {
   "cell_type": "code",
   "execution_count": 32,
   "metadata": {
    "collapsed": true
   },
   "outputs": [],
   "source": [
    "cosine = []\n",
    "for k in range(total_row):\n",
    "    cosine.append(cosine_similarity(my_game[my_game.columns[1:]].loc[0],game_for_model[game_for_model.columns[1:]].iloc[k]))"
   ]
  },
  {
   "cell_type": "markdown",
   "metadata": {},
   "source": [
    "Add the Cosine column to the results table:"
   ]
  },
  {
   "cell_type": "code",
   "execution_count": 33,
   "metadata": {
    "collapsed": true
   },
   "outputs": [],
   "source": [
    "game_spear['cosine'] = cosine"
   ]
  },
  {
   "cell_type": "code",
   "execution_count": 34,
   "metadata": {
    "collapsed": true
   },
   "outputs": [],
   "source": [
    "game_cosine = game_spear.sort_values(['cosine'], ascending=[False])"
   ]
  },
  {
   "cell_type": "code",
   "execution_count": 35,
   "metadata": {},
   "outputs": [
    {
     "data": {
      "text/html": [
       "<div>\n",
       "<style>\n",
       "    .dataframe thead tr:only-child th {\n",
       "        text-align: right;\n",
       "    }\n",
       "\n",
       "    .dataframe thead th {\n",
       "        text-align: left;\n",
       "    }\n",
       "\n",
       "    .dataframe tbody tr th {\n",
       "        vertical-align: top;\n",
       "    }\n",
       "</style>\n",
       "<table border=\"1\" class=\"dataframe\">\n",
       "  <thead>\n",
       "    <tr style=\"text-align: right;\">\n",
       "      <th></th>\n",
       "      <th>names</th>\n",
       "      <th>min_players</th>\n",
       "      <th>max_players</th>\n",
       "      <th>avg_time</th>\n",
       "      <th>min_time</th>\n",
       "      <th>max_time</th>\n",
       "      <th>avg_rating</th>\n",
       "      <th>geek_rating</th>\n",
       "      <th>age</th>\n",
       "      <th>weight</th>\n",
       "      <th>avg_players</th>\n",
       "      <th>spearman</th>\n",
       "      <th>pearson</th>\n",
       "      <th>cosine</th>\n",
       "    </tr>\n",
       "  </thead>\n",
       "  <tbody>\n",
       "    <tr>\n",
       "      <th>865</th>\n",
       "      <td>Historia</td>\n",
       "      <td>1</td>\n",
       "      <td>6</td>\n",
       "      <td>180</td>\n",
       "      <td>30</td>\n",
       "      <td>180</td>\n",
       "      <td>7.04943</td>\n",
       "      <td>6.48562</td>\n",
       "      <td>14</td>\n",
       "      <td>3.1136</td>\n",
       "      <td>3.5</td>\n",
       "      <td>0.975610</td>\n",
       "      <td>0.999833</td>\n",
       "      <td>1.000</td>\n",
       "    </tr>\n",
       "    <tr>\n",
       "      <th>9</th>\n",
       "      <td>Caverna: The Cave Farmers</td>\n",
       "      <td>1</td>\n",
       "      <td>7</td>\n",
       "      <td>210</td>\n",
       "      <td>30</td>\n",
       "      <td>210</td>\n",
       "      <td>8.17949</td>\n",
       "      <td>8.00663</td>\n",
       "      <td>12</td>\n",
       "      <td>3.7883</td>\n",
       "      <td>4.0</td>\n",
       "      <td>0.975610</td>\n",
       "      <td>0.999804</td>\n",
       "      <td>1.000</td>\n",
       "    </tr>\n",
       "    <tr>\n",
       "      <th>1903</th>\n",
       "      <td>V-Commandos</td>\n",
       "      <td>1</td>\n",
       "      <td>4</td>\n",
       "      <td>180</td>\n",
       "      <td>30</td>\n",
       "      <td>180</td>\n",
       "      <td>8.23187</td>\n",
       "      <td>6.02263</td>\n",
       "      <td>12</td>\n",
       "      <td>2.7143</td>\n",
       "      <td>2.5</td>\n",
       "      <td>0.987805</td>\n",
       "      <td>0.999897</td>\n",
       "      <td>1.000</td>\n",
       "    </tr>\n",
       "    <tr>\n",
       "      <th>2095</th>\n",
       "      <td>Apex Theropod Deck-Building Game</td>\n",
       "      <td>1</td>\n",
       "      <td>6</td>\n",
       "      <td>290</td>\n",
       "      <td>45</td>\n",
       "      <td>290</td>\n",
       "      <td>7.37977</td>\n",
       "      <td>5.96809</td>\n",
       "      <td>14</td>\n",
       "      <td>2.9565</td>\n",
       "      <td>3.5</td>\n",
       "      <td>0.987805</td>\n",
       "      <td>0.999946</td>\n",
       "      <td>1.000</td>\n",
       "    </tr>\n",
       "    <tr>\n",
       "      <th>3253</th>\n",
       "      <td>Perdition's Mouth: Abyssal Rift</td>\n",
       "      <td>1</td>\n",
       "      <td>6</td>\n",
       "      <td>180</td>\n",
       "      <td>30</td>\n",
       "      <td>180</td>\n",
       "      <td>7.84903</td>\n",
       "      <td>5.75840</td>\n",
       "      <td>10</td>\n",
       "      <td>3.6923</td>\n",
       "      <td>3.5</td>\n",
       "      <td>1.000000</td>\n",
       "      <td>1.000000</td>\n",
       "      <td>1.000</td>\n",
       "    </tr>\n",
       "    <tr>\n",
       "      <th>76</th>\n",
       "      <td>Nations</td>\n",
       "      <td>1</td>\n",
       "      <td>5</td>\n",
       "      <td>200</td>\n",
       "      <td>40</td>\n",
       "      <td>200</td>\n",
       "      <td>7.75364</td>\n",
       "      <td>7.50628</td>\n",
       "      <td>14</td>\n",
       "      <td>3.5375</td>\n",
       "      <td>3.0</td>\n",
       "      <td>0.987805</td>\n",
       "      <td>0.999538</td>\n",
       "      <td>1.000</td>\n",
       "    </tr>\n",
       "    <tr>\n",
       "      <th>103</th>\n",
       "      <td>Go</td>\n",
       "      <td>2</td>\n",
       "      <td>2</td>\n",
       "      <td>180</td>\n",
       "      <td>30</td>\n",
       "      <td>180</td>\n",
       "      <td>7.67240</td>\n",
       "      <td>7.41118</td>\n",
       "      <td>8</td>\n",
       "      <td>3.9730</td>\n",
       "      <td>2.0</td>\n",
       "      <td>0.925996</td>\n",
       "      <td>0.999753</td>\n",
       "      <td>1.000</td>\n",
       "    </tr>\n",
       "    <tr>\n",
       "      <th>3586</th>\n",
       "      <td>The King's Armory</td>\n",
       "      <td>1</td>\n",
       "      <td>7</td>\n",
       "      <td>240</td>\n",
       "      <td>30</td>\n",
       "      <td>240</td>\n",
       "      <td>7.21975</td>\n",
       "      <td>5.72076</td>\n",
       "      <td>13</td>\n",
       "      <td>3.1765</td>\n",
       "      <td>4.0</td>\n",
       "      <td>0.987805</td>\n",
       "      <td>0.999550</td>\n",
       "      <td>1.000</td>\n",
       "    </tr>\n",
       "    <tr>\n",
       "      <th>109</th>\n",
       "      <td>Hannibal: Rome vs. Carthage</td>\n",
       "      <td>2</td>\n",
       "      <td>2</td>\n",
       "      <td>200</td>\n",
       "      <td>40</td>\n",
       "      <td>200</td>\n",
       "      <td>7.82870</td>\n",
       "      <td>7.38253</td>\n",
       "      <td>12</td>\n",
       "      <td>3.4168</td>\n",
       "      <td>2.0</td>\n",
       "      <td>0.925996</td>\n",
       "      <td>0.999383</td>\n",
       "      <td>1.000</td>\n",
       "    </tr>\n",
       "    <tr>\n",
       "      <th>2499</th>\n",
       "      <td>Comanchería: The Rise and Fall of the Comanche...</td>\n",
       "      <td>1</td>\n",
       "      <td>1</td>\n",
       "      <td>360</td>\n",
       "      <td>60</td>\n",
       "      <td>360</td>\n",
       "      <td>8.32032</td>\n",
       "      <td>5.88144</td>\n",
       "      <td>14</td>\n",
       "      <td>3.9600</td>\n",
       "      <td>1.0</td>\n",
       "      <td>0.925996</td>\n",
       "      <td>0.999790</td>\n",
       "      <td>0.999</td>\n",
       "    </tr>\n",
       "  </tbody>\n",
       "</table>\n",
       "</div>"
      ],
      "text/plain": [
       "                                                  names  min_players  \\\n",
       "865                                            Historia            1   \n",
       "9                             Caverna: The Cave Farmers            1   \n",
       "1903                                        V-Commandos            1   \n",
       "2095                   Apex Theropod Deck-Building Game            1   \n",
       "3253                    Perdition's Mouth: Abyssal Rift            1   \n",
       "76                                              Nations            1   \n",
       "103                                                  Go            2   \n",
       "3586                                  The King's Armory            1   \n",
       "109                         Hannibal: Rome vs. Carthage            2   \n",
       "2499  Comanchería: The Rise and Fall of the Comanche...            1   \n",
       "\n",
       "      max_players  avg_time  min_time  max_time  avg_rating  geek_rating  age  \\\n",
       "865             6       180        30       180     7.04943      6.48562   14   \n",
       "9               7       210        30       210     8.17949      8.00663   12   \n",
       "1903            4       180        30       180     8.23187      6.02263   12   \n",
       "2095            6       290        45       290     7.37977      5.96809   14   \n",
       "3253            6       180        30       180     7.84903      5.75840   10   \n",
       "76              5       200        40       200     7.75364      7.50628   14   \n",
       "103             2       180        30       180     7.67240      7.41118    8   \n",
       "3586            7       240        30       240     7.21975      5.72076   13   \n",
       "109             2       200        40       200     7.82870      7.38253   12   \n",
       "2499            1       360        60       360     8.32032      5.88144   14   \n",
       "\n",
       "      weight  avg_players  spearman   pearson  cosine  \n",
       "865   3.1136          3.5  0.975610  0.999833   1.000  \n",
       "9     3.7883          4.0  0.975610  0.999804   1.000  \n",
       "1903  2.7143          2.5  0.987805  0.999897   1.000  \n",
       "2095  2.9565          3.5  0.987805  0.999946   1.000  \n",
       "3253  3.6923          3.5  1.000000  1.000000   1.000  \n",
       "76    3.5375          3.0  0.987805  0.999538   1.000  \n",
       "103   3.9730          2.0  0.925996  0.999753   1.000  \n",
       "3586  3.1765          4.0  0.987805  0.999550   1.000  \n",
       "109   3.4168          2.0  0.925996  0.999383   1.000  \n",
       "2499  3.9600          1.0  0.925996  0.999790   0.999  "
      ]
     },
     "execution_count": 35,
     "metadata": {},
     "output_type": "execute_result"
    }
   ],
   "source": [
    "game_cosine.head(10)"
   ]
  },
  {
   "cell_type": "markdown",
   "metadata": {},
   "source": [
    "# Manhattan Distance (Taxicab geometry)"
   ]
  },
  {
   "cell_type": "markdown",
   "metadata": {},
   "source": [
    "Taxicab geometry is a form of geometry in which the usual distance function or metric of Euclidean geometry is replaced by a new metric in which the distance between two points is the sum of the absolute differences of their Cartesian coordinates. Is defined by:"
   ]
  },
  {
   "cell_type": "code",
   "execution_count": 36,
   "metadata": {
    "collapsed": true
   },
   "outputs": [],
   "source": [
    "def manhattan_distance(x,y):\n",
    " \n",
    "    return sum(abs(a-b) for a,b in zip(x,y))"
   ]
  },
  {
   "cell_type": "code",
   "execution_count": 37,
   "metadata": {
    "collapsed": true
   },
   "outputs": [],
   "source": [
    "manhattan = []\n",
    "for k in range(total_row):\n",
    "    manhattan.append(manhattan_distance(my_game[my_game.columns[1:]].loc[0],game_for_model[game_for_model.columns[1:]].iloc[k]))"
   ]
  },
  {
   "cell_type": "markdown",
   "metadata": {},
   "source": [
    "As usual I add and sort it to the result table"
   ]
  },
  {
   "cell_type": "code",
   "execution_count": 38,
   "metadata": {
    "collapsed": true
   },
   "outputs": [],
   "source": [
    "game_spear['manhattan'] = manhattan"
   ]
  },
  {
   "cell_type": "code",
   "execution_count": 39,
   "metadata": {
    "collapsed": true
   },
   "outputs": [],
   "source": [
    "game_taxi = game_spear.sort_values(['manhattan'], ascending=[True])"
   ]
  },
  {
   "cell_type": "code",
   "execution_count": 40,
   "metadata": {},
   "outputs": [
    {
     "data": {
      "text/html": [
       "<div>\n",
       "<style>\n",
       "    .dataframe thead tr:only-child th {\n",
       "        text-align: right;\n",
       "    }\n",
       "\n",
       "    .dataframe thead th {\n",
       "        text-align: left;\n",
       "    }\n",
       "\n",
       "    .dataframe tbody tr th {\n",
       "        vertical-align: top;\n",
       "    }\n",
       "</style>\n",
       "<table border=\"1\" class=\"dataframe\">\n",
       "  <thead>\n",
       "    <tr style=\"text-align: right;\">\n",
       "      <th></th>\n",
       "      <th>names</th>\n",
       "      <th>min_players</th>\n",
       "      <th>max_players</th>\n",
       "      <th>avg_time</th>\n",
       "      <th>min_time</th>\n",
       "      <th>max_time</th>\n",
       "      <th>avg_rating</th>\n",
       "      <th>geek_rating</th>\n",
       "      <th>age</th>\n",
       "      <th>weight</th>\n",
       "      <th>avg_players</th>\n",
       "      <th>spearman</th>\n",
       "      <th>pearson</th>\n",
       "      <th>cosine</th>\n",
       "      <th>manhattan</th>\n",
       "    </tr>\n",
       "  </thead>\n",
       "  <tbody>\n",
       "    <tr>\n",
       "      <th>3253</th>\n",
       "      <td>Perdition's Mouth: Abyssal Rift</td>\n",
       "      <td>1</td>\n",
       "      <td>6</td>\n",
       "      <td>180</td>\n",
       "      <td>30</td>\n",
       "      <td>180</td>\n",
       "      <td>7.84903</td>\n",
       "      <td>5.75840</td>\n",
       "      <td>10</td>\n",
       "      <td>3.6923</td>\n",
       "      <td>3.5</td>\n",
       "      <td>1.000000</td>\n",
       "      <td>1.000000</td>\n",
       "      <td>1.000</td>\n",
       "      <td>0.19973</td>\n",
       "    </tr>\n",
       "    <tr>\n",
       "      <th>865</th>\n",
       "      <td>Historia</td>\n",
       "      <td>1</td>\n",
       "      <td>6</td>\n",
       "      <td>180</td>\n",
       "      <td>30</td>\n",
       "      <td>180</td>\n",
       "      <td>7.04943</td>\n",
       "      <td>6.48562</td>\n",
       "      <td>14</td>\n",
       "      <td>3.1136</td>\n",
       "      <td>3.5</td>\n",
       "      <td>0.975610</td>\n",
       "      <td>0.999833</td>\n",
       "      <td>1.000</td>\n",
       "      <td>6.02259</td>\n",
       "    </tr>\n",
       "    <tr>\n",
       "      <th>1903</th>\n",
       "      <td>V-Commandos</td>\n",
       "      <td>1</td>\n",
       "      <td>4</td>\n",
       "      <td>180</td>\n",
       "      <td>30</td>\n",
       "      <td>180</td>\n",
       "      <td>8.23187</td>\n",
       "      <td>6.02263</td>\n",
       "      <td>12</td>\n",
       "      <td>2.7143</td>\n",
       "      <td>2.5</td>\n",
       "      <td>0.987805</td>\n",
       "      <td>0.999897</td>\n",
       "      <td>1.000</td>\n",
       "      <td>6.64020</td>\n",
       "    </tr>\n",
       "    <tr>\n",
       "      <th>103</th>\n",
       "      <td>Go</td>\n",
       "      <td>2</td>\n",
       "      <td>2</td>\n",
       "      <td>180</td>\n",
       "      <td>30</td>\n",
       "      <td>180</td>\n",
       "      <td>7.67240</td>\n",
       "      <td>7.41118</td>\n",
       "      <td>8</td>\n",
       "      <td>3.9730</td>\n",
       "      <td>2.0</td>\n",
       "      <td>0.925996</td>\n",
       "      <td>0.999753</td>\n",
       "      <td>1.000</td>\n",
       "      <td>10.71178</td>\n",
       "    </tr>\n",
       "    <tr>\n",
       "      <th>986</th>\n",
       "      <td>Warfighter: The Tactical Special Forces Card Game</td>\n",
       "      <td>1</td>\n",
       "      <td>6</td>\n",
       "      <td>180</td>\n",
       "      <td>30</td>\n",
       "      <td>180</td>\n",
       "      <td>7.83828</td>\n",
       "      <td>6.39718</td>\n",
       "      <td>0</td>\n",
       "      <td>2.7125</td>\n",
       "      <td>3.5</td>\n",
       "      <td>0.719512</td>\n",
       "      <td>0.999085</td>\n",
       "      <td>0.999</td>\n",
       "      <td>11.62296</td>\n",
       "    </tr>\n",
       "    <tr>\n",
       "      <th>266</th>\n",
       "      <td>Zombicide</td>\n",
       "      <td>1</td>\n",
       "      <td>6</td>\n",
       "      <td>180</td>\n",
       "      <td>45</td>\n",
       "      <td>180</td>\n",
       "      <td>7.31930</td>\n",
       "      <td>7.07652</td>\n",
       "      <td>13</td>\n",
       "      <td>2.5873</td>\n",
       "      <td>3.5</td>\n",
       "      <td>0.975610</td>\n",
       "      <td>0.997847</td>\n",
       "      <td>0.998</td>\n",
       "      <td>20.86992</td>\n",
       "    </tr>\n",
       "    <tr>\n",
       "      <th>4252</th>\n",
       "      <td>Aventuria Adventure Card Game</td>\n",
       "      <td>1</td>\n",
       "      <td>4</td>\n",
       "      <td>180</td>\n",
       "      <td>45</td>\n",
       "      <td>180</td>\n",
       "      <td>7.51786</td>\n",
       "      <td>5.66655</td>\n",
       "      <td>14</td>\n",
       "      <td>2.0000</td>\n",
       "      <td>2.5</td>\n",
       "      <td>0.975610</td>\n",
       "      <td>0.997599</td>\n",
       "      <td>0.998</td>\n",
       "      <td>23.91559</td>\n",
       "    </tr>\n",
       "    <tr>\n",
       "      <th>2207</th>\n",
       "      <td>Risk Europe</td>\n",
       "      <td>2</td>\n",
       "      <td>4</td>\n",
       "      <td>180</td>\n",
       "      <td>45</td>\n",
       "      <td>180</td>\n",
       "      <td>7.83625</td>\n",
       "      <td>5.93913</td>\n",
       "      <td>14</td>\n",
       "      <td>2.4545</td>\n",
       "      <td>3.0</td>\n",
       "      <td>0.975610</td>\n",
       "      <td>0.997690</td>\n",
       "      <td>0.998</td>\n",
       "      <td>23.92088</td>\n",
       "    </tr>\n",
       "    <tr>\n",
       "      <th>98</th>\n",
       "      <td>Zombicide: Black Plague</td>\n",
       "      <td>1</td>\n",
       "      <td>6</td>\n",
       "      <td>180</td>\n",
       "      <td>60</td>\n",
       "      <td>180</td>\n",
       "      <td>7.95424</td>\n",
       "      <td>7.42260</td>\n",
       "      <td>10</td>\n",
       "      <td>2.5948</td>\n",
       "      <td>3.5</td>\n",
       "      <td>0.975610</td>\n",
       "      <td>0.991517</td>\n",
       "      <td>0.993</td>\n",
       "      <td>32.88204</td>\n",
       "    </tr>\n",
       "    <tr>\n",
       "      <th>185</th>\n",
       "      <td>Dune</td>\n",
       "      <td>2</td>\n",
       "      <td>6</td>\n",
       "      <td>180</td>\n",
       "      <td>60</td>\n",
       "      <td>180</td>\n",
       "      <td>7.61598</td>\n",
       "      <td>7.21567</td>\n",
       "      <td>12</td>\n",
       "      <td>3.4345</td>\n",
       "      <td>4.0</td>\n",
       "      <td>0.975610</td>\n",
       "      <td>0.991719</td>\n",
       "      <td>0.993</td>\n",
       "      <td>35.36519</td>\n",
       "    </tr>\n",
       "  </tbody>\n",
       "</table>\n",
       "</div>"
      ],
      "text/plain": [
       "                                                  names  min_players  \\\n",
       "3253                    Perdition's Mouth: Abyssal Rift            1   \n",
       "865                                            Historia            1   \n",
       "1903                                        V-Commandos            1   \n",
       "103                                                  Go            2   \n",
       "986   Warfighter: The Tactical Special Forces Card Game            1   \n",
       "266                                           Zombicide            1   \n",
       "4252                      Aventuria Adventure Card Game            1   \n",
       "2207                                        Risk Europe            2   \n",
       "98                              Zombicide: Black Plague            1   \n",
       "185                                                Dune            2   \n",
       "\n",
       "      max_players  avg_time  min_time  max_time  avg_rating  geek_rating  age  \\\n",
       "3253            6       180        30       180     7.84903      5.75840   10   \n",
       "865             6       180        30       180     7.04943      6.48562   14   \n",
       "1903            4       180        30       180     8.23187      6.02263   12   \n",
       "103             2       180        30       180     7.67240      7.41118    8   \n",
       "986             6       180        30       180     7.83828      6.39718    0   \n",
       "266             6       180        45       180     7.31930      7.07652   13   \n",
       "4252            4       180        45       180     7.51786      5.66655   14   \n",
       "2207            4       180        45       180     7.83625      5.93913   14   \n",
       "98              6       180        60       180     7.95424      7.42260   10   \n",
       "185             6       180        60       180     7.61598      7.21567   12   \n",
       "\n",
       "      weight  avg_players  spearman   pearson  cosine  manhattan  \n",
       "3253  3.6923          3.5  1.000000  1.000000   1.000    0.19973  \n",
       "865   3.1136          3.5  0.975610  0.999833   1.000    6.02259  \n",
       "1903  2.7143          2.5  0.987805  0.999897   1.000    6.64020  \n",
       "103   3.9730          2.0  0.925996  0.999753   1.000   10.71178  \n",
       "986   2.7125          3.5  0.719512  0.999085   0.999   11.62296  \n",
       "266   2.5873          3.5  0.975610  0.997847   0.998   20.86992  \n",
       "4252  2.0000          2.5  0.975610  0.997599   0.998   23.91559  \n",
       "2207  2.4545          3.0  0.975610  0.997690   0.998   23.92088  \n",
       "98    2.5948          3.5  0.975610  0.991517   0.993   32.88204  \n",
       "185   3.4345          4.0  0.975610  0.991719   0.993   35.36519  "
      ]
     },
     "execution_count": 40,
     "metadata": {},
     "output_type": "execute_result"
    }
   ],
   "source": [
    "game_taxi.head(10)"
   ]
  },
  {
   "cell_type": "markdown",
   "metadata": {},
   "source": [
    "# Conclusion"
   ]
  },
  {
   "cell_type": "markdown",
   "metadata": {},
   "source": [
    "Let's remember how my_game vector is:"
   ]
  },
  {
   "cell_type": "code",
   "execution_count": 41,
   "metadata": {},
   "outputs": [
    {
     "data": {
      "text/html": [
       "<div>\n",
       "<style>\n",
       "    .dataframe thead tr:only-child th {\n",
       "        text-align: right;\n",
       "    }\n",
       "\n",
       "    .dataframe thead th {\n",
       "        text-align: left;\n",
       "    }\n",
       "\n",
       "    .dataframe tbody tr th {\n",
       "        vertical-align: top;\n",
       "    }\n",
       "</style>\n",
       "<table border=\"1\" class=\"dataframe\">\n",
       "  <thead>\n",
       "    <tr style=\"text-align: right;\">\n",
       "      <th></th>\n",
       "      <th>names</th>\n",
       "      <th>min_players</th>\n",
       "      <th>max_players</th>\n",
       "      <th>avg_time</th>\n",
       "      <th>min_time</th>\n",
       "      <th>max_time</th>\n",
       "      <th>avg_rating</th>\n",
       "      <th>geek_rating</th>\n",
       "      <th>age</th>\n",
       "      <th>weight</th>\n",
       "      <th>avg_players</th>\n",
       "    </tr>\n",
       "  </thead>\n",
       "  <tbody>\n",
       "    <tr>\n",
       "      <th>0</th>\n",
       "      <td>My Game</td>\n",
       "      <td>1</td>\n",
       "      <td>6</td>\n",
       "      <td>180.0</td>\n",
       "      <td>30</td>\n",
       "      <td>180</td>\n",
       "      <td>7.8</td>\n",
       "      <td>5.7</td>\n",
       "      <td>10</td>\n",
       "      <td>3.6</td>\n",
       "      <td>3.5</td>\n",
       "    </tr>\n",
       "  </tbody>\n",
       "</table>\n",
       "</div>"
      ],
      "text/plain": [
       "     names  min_players  max_players  avg_time  min_time  max_time  \\\n",
       "0  My Game            1            6     180.0        30       180   \n",
       "\n",
       "   avg_rating  geek_rating  age  weight  avg_players  \n",
       "0         7.8          5.7   10     3.6          3.5  "
      ]
     },
     "execution_count": 41,
     "metadata": {},
     "output_type": "execute_result"
    }
   ],
   "source": [
    "my_game"
   ]
  },
  {
   "cell_type": "markdown",
   "metadata": {},
   "source": [
    "There are many different data mining techniques applicable at this example. "
   ]
  },
  {
   "cell_type": "markdown",
   "metadata": {},
   "source": [
    "In this case we search similarities through Spearman Rank Correlation, Pearson Linear Correlation, Cosine Similarities and Manhattan Distance. \n",
    "Spearman Rank Correlation assesses how well the relationship between two variables can be described using a monotonic function. \n",
    "Cosine similarity is a good technique but is used to measure cohesion within clusters and in text recognition (in these fields probably is more powerfull). \n",
    "Manhattan Distance also is a good indicator of how much two point are far, and in our case probably the best.  "
   ]
  },
  {
   "cell_type": "code",
   "execution_count": 48,
   "metadata": {},
   "outputs": [
    {
     "data": {
      "text/html": [
       "<div>\n",
       "<style>\n",
       "    .dataframe thead tr:only-child th {\n",
       "        text-align: right;\n",
       "    }\n",
       "\n",
       "    .dataframe thead th {\n",
       "        text-align: left;\n",
       "    }\n",
       "\n",
       "    .dataframe tbody tr th {\n",
       "        vertical-align: top;\n",
       "    }\n",
       "</style>\n",
       "<table border=\"1\" class=\"dataframe\">\n",
       "  <thead>\n",
       "    <tr style=\"text-align: right;\">\n",
       "      <th></th>\n",
       "      <th>names</th>\n",
       "      <th>min_players</th>\n",
       "      <th>max_players</th>\n",
       "      <th>avg_time</th>\n",
       "      <th>min_time</th>\n",
       "      <th>max_time</th>\n",
       "      <th>avg_rating</th>\n",
       "      <th>geek_rating</th>\n",
       "      <th>age</th>\n",
       "      <th>weight</th>\n",
       "      <th>avg_players</th>\n",
       "      <th>spearman</th>\n",
       "      <th>pearson</th>\n",
       "      <th>cosine</th>\n",
       "      <th>manhattan</th>\n",
       "    </tr>\n",
       "  </thead>\n",
       "  <tbody>\n",
       "    <tr>\n",
       "      <th>3253</th>\n",
       "      <td>Perdition's Mouth: Abyssal Rift</td>\n",
       "      <td>1</td>\n",
       "      <td>6</td>\n",
       "      <td>180</td>\n",
       "      <td>30</td>\n",
       "      <td>180</td>\n",
       "      <td>7.84903</td>\n",
       "      <td>5.75840</td>\n",
       "      <td>10</td>\n",
       "      <td>3.6923</td>\n",
       "      <td>3.5</td>\n",
       "      <td>1.000000</td>\n",
       "      <td>1.000000</td>\n",
       "      <td>1.000</td>\n",
       "      <td>0.19973</td>\n",
       "    </tr>\n",
       "    <tr>\n",
       "      <th>865</th>\n",
       "      <td>Historia</td>\n",
       "      <td>1</td>\n",
       "      <td>6</td>\n",
       "      <td>180</td>\n",
       "      <td>30</td>\n",
       "      <td>180</td>\n",
       "      <td>7.04943</td>\n",
       "      <td>6.48562</td>\n",
       "      <td>14</td>\n",
       "      <td>3.1136</td>\n",
       "      <td>3.5</td>\n",
       "      <td>0.975610</td>\n",
       "      <td>0.999833</td>\n",
       "      <td>1.000</td>\n",
       "      <td>6.02259</td>\n",
       "    </tr>\n",
       "    <tr>\n",
       "      <th>1903</th>\n",
       "      <td>V-Commandos</td>\n",
       "      <td>1</td>\n",
       "      <td>4</td>\n",
       "      <td>180</td>\n",
       "      <td>30</td>\n",
       "      <td>180</td>\n",
       "      <td>8.23187</td>\n",
       "      <td>6.02263</td>\n",
       "      <td>12</td>\n",
       "      <td>2.7143</td>\n",
       "      <td>2.5</td>\n",
       "      <td>0.987805</td>\n",
       "      <td>0.999897</td>\n",
       "      <td>1.000</td>\n",
       "      <td>6.64020</td>\n",
       "    </tr>\n",
       "    <tr>\n",
       "      <th>103</th>\n",
       "      <td>Go</td>\n",
       "      <td>2</td>\n",
       "      <td>2</td>\n",
       "      <td>180</td>\n",
       "      <td>30</td>\n",
       "      <td>180</td>\n",
       "      <td>7.67240</td>\n",
       "      <td>7.41118</td>\n",
       "      <td>8</td>\n",
       "      <td>3.9730</td>\n",
       "      <td>2.0</td>\n",
       "      <td>0.925996</td>\n",
       "      <td>0.999753</td>\n",
       "      <td>1.000</td>\n",
       "      <td>10.71178</td>\n",
       "    </tr>\n",
       "    <tr>\n",
       "      <th>986</th>\n",
       "      <td>Warfighter: The Tactical Special Forces Card Game</td>\n",
       "      <td>1</td>\n",
       "      <td>6</td>\n",
       "      <td>180</td>\n",
       "      <td>30</td>\n",
       "      <td>180</td>\n",
       "      <td>7.83828</td>\n",
       "      <td>6.39718</td>\n",
       "      <td>0</td>\n",
       "      <td>2.7125</td>\n",
       "      <td>3.5</td>\n",
       "      <td>0.719512</td>\n",
       "      <td>0.999085</td>\n",
       "      <td>0.999</td>\n",
       "      <td>11.62296</td>\n",
       "    </tr>\n",
       "    <tr>\n",
       "      <th>266</th>\n",
       "      <td>Zombicide</td>\n",
       "      <td>1</td>\n",
       "      <td>6</td>\n",
       "      <td>180</td>\n",
       "      <td>45</td>\n",
       "      <td>180</td>\n",
       "      <td>7.31930</td>\n",
       "      <td>7.07652</td>\n",
       "      <td>13</td>\n",
       "      <td>2.5873</td>\n",
       "      <td>3.5</td>\n",
       "      <td>0.975610</td>\n",
       "      <td>0.997847</td>\n",
       "      <td>0.998</td>\n",
       "      <td>20.86992</td>\n",
       "    </tr>\n",
       "    <tr>\n",
       "      <th>4252</th>\n",
       "      <td>Aventuria Adventure Card Game</td>\n",
       "      <td>1</td>\n",
       "      <td>4</td>\n",
       "      <td>180</td>\n",
       "      <td>45</td>\n",
       "      <td>180</td>\n",
       "      <td>7.51786</td>\n",
       "      <td>5.66655</td>\n",
       "      <td>14</td>\n",
       "      <td>2.0000</td>\n",
       "      <td>2.5</td>\n",
       "      <td>0.975610</td>\n",
       "      <td>0.997599</td>\n",
       "      <td>0.998</td>\n",
       "      <td>23.91559</td>\n",
       "    </tr>\n",
       "    <tr>\n",
       "      <th>2207</th>\n",
       "      <td>Risk Europe</td>\n",
       "      <td>2</td>\n",
       "      <td>4</td>\n",
       "      <td>180</td>\n",
       "      <td>45</td>\n",
       "      <td>180</td>\n",
       "      <td>7.83625</td>\n",
       "      <td>5.93913</td>\n",
       "      <td>14</td>\n",
       "      <td>2.4545</td>\n",
       "      <td>3.0</td>\n",
       "      <td>0.975610</td>\n",
       "      <td>0.997690</td>\n",
       "      <td>0.998</td>\n",
       "      <td>23.92088</td>\n",
       "    </tr>\n",
       "    <tr>\n",
       "      <th>98</th>\n",
       "      <td>Zombicide: Black Plague</td>\n",
       "      <td>1</td>\n",
       "      <td>6</td>\n",
       "      <td>180</td>\n",
       "      <td>60</td>\n",
       "      <td>180</td>\n",
       "      <td>7.95424</td>\n",
       "      <td>7.42260</td>\n",
       "      <td>10</td>\n",
       "      <td>2.5948</td>\n",
       "      <td>3.5</td>\n",
       "      <td>0.975610</td>\n",
       "      <td>0.991517</td>\n",
       "      <td>0.993</td>\n",
       "      <td>32.88204</td>\n",
       "    </tr>\n",
       "    <tr>\n",
       "      <th>185</th>\n",
       "      <td>Dune</td>\n",
       "      <td>2</td>\n",
       "      <td>6</td>\n",
       "      <td>180</td>\n",
       "      <td>60</td>\n",
       "      <td>180</td>\n",
       "      <td>7.61598</td>\n",
       "      <td>7.21567</td>\n",
       "      <td>12</td>\n",
       "      <td>3.4345</td>\n",
       "      <td>4.0</td>\n",
       "      <td>0.975610</td>\n",
       "      <td>0.991719</td>\n",
       "      <td>0.993</td>\n",
       "      <td>35.36519</td>\n",
       "    </tr>\n",
       "  </tbody>\n",
       "</table>\n",
       "</div>"
      ],
      "text/plain": [
       "                                                  names  min_players  \\\n",
       "3253                    Perdition's Mouth: Abyssal Rift            1   \n",
       "865                                            Historia            1   \n",
       "1903                                        V-Commandos            1   \n",
       "103                                                  Go            2   \n",
       "986   Warfighter: The Tactical Special Forces Card Game            1   \n",
       "266                                           Zombicide            1   \n",
       "4252                      Aventuria Adventure Card Game            1   \n",
       "2207                                        Risk Europe            2   \n",
       "98                              Zombicide: Black Plague            1   \n",
       "185                                                Dune            2   \n",
       "\n",
       "      max_players  avg_time  min_time  max_time  avg_rating  geek_rating  age  \\\n",
       "3253            6       180        30       180     7.84903      5.75840   10   \n",
       "865             6       180        30       180     7.04943      6.48562   14   \n",
       "1903            4       180        30       180     8.23187      6.02263   12   \n",
       "103             2       180        30       180     7.67240      7.41118    8   \n",
       "986             6       180        30       180     7.83828      6.39718    0   \n",
       "266             6       180        45       180     7.31930      7.07652   13   \n",
       "4252            4       180        45       180     7.51786      5.66655   14   \n",
       "2207            4       180        45       180     7.83625      5.93913   14   \n",
       "98              6       180        60       180     7.95424      7.42260   10   \n",
       "185             6       180        60       180     7.61598      7.21567   12   \n",
       "\n",
       "      weight  avg_players  spearman   pearson  cosine  manhattan  \n",
       "3253  3.6923          3.5  1.000000  1.000000   1.000    0.19973  \n",
       "865   3.1136          3.5  0.975610  0.999833   1.000    6.02259  \n",
       "1903  2.7143          2.5  0.987805  0.999897   1.000    6.64020  \n",
       "103   3.9730          2.0  0.925996  0.999753   1.000   10.71178  \n",
       "986   2.7125          3.5  0.719512  0.999085   0.999   11.62296  \n",
       "266   2.5873          3.5  0.975610  0.997847   0.998   20.86992  \n",
       "4252  2.0000          2.5  0.975610  0.997599   0.998   23.91559  \n",
       "2207  2.4545          3.0  0.975610  0.997690   0.998   23.92088  \n",
       "98    2.5948          3.5  0.975610  0.991517   0.993   32.88204  \n",
       "185   3.4345          4.0  0.975610  0.991719   0.993   35.36519  "
      ]
     },
     "execution_count": 48,
     "metadata": {},
     "output_type": "execute_result"
    }
   ],
   "source": [
    "game_spear = game_spear.sort_values((['manhattan']), ascending=[True])\n",
    "game_spear.head(10)"
   ]
  },
  {
   "cell_type": "markdown",
   "metadata": {},
   "source": [
    "Manhattan distance is able to catch also very low differencies the correlation indicator or cosine are not so efficient.\n",
    "To a very low manhattan distance is associated, in general, a high pearson correlation coefficient:"
   ]
  },
  {
   "cell_type": "code",
   "execution_count": 64,
   "metadata": {},
   "outputs": [
    {
     "data": {
      "image/png": "[encoded data removed]",
      "text/plain": [
       "<matplotlib.figure.Figure at 0x2b27ee8a0b8>"
      ]
     },
     "metadata": {},
     "output_type": "display_data"
    }
   ],
   "source": [
    "ax = game_spear[['manhattan','pearson']].head(40).plot(kind='bar', x=['manhattan'], title =\"\", figsize=(15, 10), legend=True, fontsize=12)\n",
    "ax.set_xlabel(\"Manhattan distance\", fontsize=12)\n",
    "ax.set_ylabel(\"Pearson correlation\", fontsize=12)\n",
    "plt.show()"
   ]
  },
  {
   "cell_type": "code",
   "execution_count": null,
   "metadata": {
    "collapsed": true
   },
   "outputs": [],
   "source": []
  }
 ],
 "metadata": {
  "kernelspec": {
   "display_name": "Python 3",
   "language": "python",
   "name": "python3"
  },
  "language_info": {
   "codemirror_mode": {
    "name": "ipython",
    "version": 3
   },
   "file_extension": ".py",
   "mimetype": "text/x-python",
   "name": "python",
   "nbconvert_exporter": "python",
   "pygments_lexer": "ipython3",
   "version": "3.6.1"
  }
 },
 "nbformat": 4,
 "nbformat_minor": 2
}
